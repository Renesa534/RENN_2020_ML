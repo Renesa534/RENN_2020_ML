{
  "nbformat": 4,
  "nbformat_minor": 0,
  "metadata": {
    "colab": {
      "name": "Evolutionary_model.ipynb",
      "provenance": []
    },
    "kernelspec": {
      "name": "python3",
      "display_name": "Python 3"
    },
    "language_info": {
      "name": "python"
    }
  },
  "cells": [
    {
      "cell_type": "code",
      "metadata": {
        "id": "cP0ZRuZeUOfG"
      },
      "source": [
        "import networkx as nx\n",
        "import matplotlib.pyplot as plt\n",
        "import random\n",
        "import math \n",
        "import time "
      ],
      "execution_count": null,
      "outputs": []
    },
    {
      "cell_type": "code",
      "metadata": {
        "id": "aou84yMaUhJS"
      },
      "source": [
        "def create_graph():\n",
        "  G= nx.Graph()\n",
        "  G.add_nodes_from(range(1,101))\n",
        "  return G"
      ],
      "execution_count": null,
      "outputs": []
    },
    {
      "cell_type": "code",
      "metadata": {
        "id": "LkE99JBIWAe3"
      },
      "source": [
        "def visualize(G, t):\n",
        "  time.sleep(1)\n",
        "  labeldict= get_labels(G)\n",
        "  nodesize= get_size(G)\n",
        "  color= get_colors(G)\n",
        "  nx.draw(G,labels= labeldict, node_size= nodesize, node_color= color)\n",
        "  plt.savefig('evolution.jpg')\n",
        "  plt.clf()\n",
        "  plt.cla()\n",
        "  nx.write_gml(G, 'evolution_'+str(t)+ '.gml')\n"
      ],
      "execution_count": null,
      "outputs": []
    },
    {
      "cell_type": "code",
      "metadata": {
        "id": "P3ADoMrrWG_n",
        "colab": {
          "base_uri": "https://localhost:8080/",
          "height": 269
        },
        "outputId": "8e3e4ccd-1ffd-4648-f60d-9d1d88657c14"
      },
      "source": [
        "G= create_graph()\n",
        "assign_bmi(G)\n",
        "add_foci_nodes(G)\n",
        "add_foci_edges()\n",
        "time.sleep(10)\n",
        "t= 0\n",
        "visualize(G, t)\n",
        "#nx.write_gml(G, 'evolution_0.gml')\n",
        "for t in range(0,10):\n",
        "  homophily(G)\n",
        "  #visualize(G)\n",
        "  closure(G)\n",
        "  visualize(G, t+1)                                      "
      ],
      "execution_count": null,
      "outputs": [
        {
          "output_type": "display_data",
          "data": {
            "image/png": "[encoded data removed]",
            "text/plain": [
              "<Figure size 432x288 with 1 Axes>"
            ]
          },
          "metadata": {
            "tags": []
          }
        }
      ]
    },
    {
      "cell_type": "code",
      "metadata": {
        "id": "wcINGcqTXV04"
      },
      "source": [
        "def assign_bmi(G):\n",
        "  for each in G.nodes():\n",
        "    G.nodes[each]['name']= random.randint(15,40)\n",
        "    G.nodes[each]['type']= 'person'"
      ],
      "execution_count": null,
      "outputs": []
    },
    {
      "cell_type": "code",
      "metadata": {
        "id": "GUdwvz5VXjld"
      },
      "source": [
        "def get_labels(G):\n",
        "  dict1= {}\n",
        "  for each in G.nodes():\n",
        "    dict1[each]= G.nodes[each]['name']\n",
        "  return dict1"
      ],
      "execution_count": null,
      "outputs": []
    },
    {
      "cell_type": "code",
      "metadata": {
        "id": "veVSe7CwGQWL"
      },
      "source": [
        "def get_size(G):\n",
        "  array1= []\n",
        "  for each in G.nodes():\n",
        "    if G.nodes[each]['type']== 'person':\n",
        "      array1.append(G.nodes[each]['name']* 20)\n",
        "    else:\n",
        "      array1.append(1000)\n",
        "  return array1                           "
      ],
      "execution_count": null,
      "outputs": []
    },
    {
      "cell_type": "code",
      "metadata": {
        "id": "ar_goJ5yIKSC"
      },
      "source": [
        "def add_foci_nodes(G):\n",
        "  n= G.number_of_nodes()\n",
        "  i= n+1\n",
        "  foci_nodes= ['gym','eatout','movie_club','yoga_club','karate_club']\n",
        "  for j in range(0,5):\n",
        "    G.add_node(i)\n",
        "    G.nodes[i]['name']= foci_nodes[j]\n",
        "    G.nodes[i]['type']= 'foci'\n",
        "    i= i+1\n",
        "    \n",
        "    "
      ],
      "execution_count": null,
      "outputs": []
    },
    {
      "cell_type": "code",
      "metadata": {
        "id": "zzP5scFOZ8tf"
      },
      "source": [
        "def get_colors(G):\n",
        "  c= []\n",
        "  for each in G.nodes():\n",
        "    if G.nodes[each]['type']== 'person':\n",
        "      if G.nodes[each]['name']== 15:\n",
        "        c.append('green')\n",
        "      elif G.nodes[each]['name']== 40:\n",
        "        c.append('yellow')\n",
        "      else:\n",
        "        c.append('blue')\n",
        "    else:\n",
        "      c.append('red')\n",
        "  return c"
      ],
      "execution_count": null,
      "outputs": []
    },
    {
      "cell_type": "code",
      "metadata": {
        "id": "kQVI1Gi4diuT"
      },
      "source": [
        "def get_foci_nodes():\n",
        "  f= []\n",
        "  for each in G.nodes():\n",
        "    if G.nodes[each]['type']== 'foci':\n",
        "      f.append(each)\n",
        "  return f"
      ],
      "execution_count": null,
      "outputs": []
    },
    {
      "cell_type": "code",
      "metadata": {
        "id": "_GZjm8WfeJHQ"
      },
      "source": [
        "def get_persons_nodes():\n",
        "  p= []\n",
        "  for each in G.nodes():\n",
        "    if G.nodes[each]['type']== 'person':\n",
        "      p.append(each)\n",
        "  return p"
      ],
      "execution_count": null,
      "outputs": []
    },
    {
      "cell_type": "code",
      "metadata": {
        "id": "QPq_obAWbc0A"
      },
      "source": [
        "def add_foci_edges():\n",
        "  foci_nodes= get_foci_nodes()\n",
        "  person_nodes= get_persons_nodes()\n",
        "  for each in person_nodes:\n",
        "    r= random.choice(foci_nodes)\n",
        "    G.add_edge(each, r)"
      ],
      "execution_count": null,
      "outputs": []
    },
    {
      "cell_type": "code",
      "metadata": {
        "id": "WGAfwKykfrEI"
      },
      "source": [
        "def homophily(G):\n",
        "  pnodes= get_persons_nodes()\n",
        "  for u in pnodes:\n",
        "    for v in pnodes:\n",
        "      if u!=v:\n",
        "        diff= abs(G.nodes[u]['name']- G.nodes[v]['name'])\n",
        "        p= float(1)/(diff+1000)\n",
        "        r= random.uniform(0,1)\n",
        "        if r<p:\n",
        "          G.add_edge(u,v)                     "
      ],
      "execution_count": null,
      "outputs": []
    },
    {
      "cell_type": "code",
      "metadata": {
        "id": "siXhp5Cf5JVQ"
      },
      "source": [
        "def cmn(u,v,G):\n",
        "  nu= set(G.neighbors(u))\n",
        "  nv= set(G.neighbors(v))\n",
        "  return len(nu & nv)"
      ],
      "execution_count": null,
      "outputs": []
    },
    {
      "cell_type": "code",
      "metadata": {
        "id": "52o3HuXI2zCt"
      },
      "source": [
        "def closure(G):\n",
        "  array1= []\n",
        "  for u in G.nodes():\n",
        "    for v in G.nodes():\n",
        "      if u!=v and (G.nodes[u]['type']== 'person' or G.nodes[v]['type']== 'person'):\n",
        "        K= cmn(u,v,G)\n",
        "        p= 1-math.pow((1-0.01),K)\n",
        "        tmp= []\n",
        "        tmp.append(u)\n",
        "        tmp.append(v)\n",
        "        tmp.append(p)\n",
        "        array1.append(tmp)\n",
        "  for each in array1:\n",
        "    u= each[0]\n",
        "    v= each[1]\n",
        "    p= each[2]\n",
        "    r= random.uniform(0,1)\n",
        "    if r<p:\n",
        "      G.add_edge(u,v)"
      ],
      "execution_count": null,
      "outputs": []
    },
    {
      "cell_type": "markdown",
      "metadata": {
        "id": "dAM0n1O6A8NO"
      },
      "source": [
        "ANALYZE THE WORK"
      ]
    },
    {
      "cell_type": "code",
      "metadata": {
        "id": "P9WgjwFK9j4a"
      },
      "source": [
        "def plot_density():\n",
        "  x= []\n",
        "  y= []\n",
        "  for i in range(0,11):\n",
        "    G= nx.read_gml('evolution_'+str(i)+'.gml')\n",
        "    x.append(i)\n",
        "    y.append(nx.density(G))\n",
        "  plt.xlabel('Time')\n",
        "  plt.ylabel('Density')\n",
        "  plt.title('Change in Density')\n",
        "  plt.plot(x,y)\n",
        "  plt.show()"
      ],
      "execution_count": null,
      "outputs": []
    },
    {
      "cell_type": "code",
      "metadata": {
        "colab": {
          "base_uri": "https://localhost:8080/",
          "height": 295
        },
        "id": "u5IUp306CRNI",
        "outputId": "5714decd-d7ca-49ec-a75f-5948d1f3cb97"
      },
      "source": [
        "plot_density()"
      ],
      "execution_count": null,
      "outputs": [
        {
          "output_type": "display_data",
          "data": {
            "image/png": "[encoded data removed]",
            "text/plain": [
              "<Figure size 432x288 with 1 Axes>"
            ]
          },
          "metadata": {
            "tags": [],
            "needs_background": "light"
          }
        }
      ]
    },
    {
      "cell_type": "code",
      "metadata": {
        "id": "_TLYL2uLES2N"
      },
      "source": [
        "def obesity(G):\n",
        "  num= 0\n",
        "  for each in G.nodes():\n",
        "    if G.nodes[each]['name']== 40:                                        \n",
        "      num= num+1\n",
        "  return num"
      ],
      "execution_count": null,
      "outputs": []
    },
    {
      "cell_type": "code",
      "metadata": {
        "id": "9u7Dwvz3CV_7"
      },
      "source": [
        "def plot_obesity():\n",
        "  x= []\n",
        "  y= []\n",
        "  for i in range(0,11):\n",
        "    G= nx.read_gml('evolution_'+str(i)+'.gml')\n",
        "    x.append(i)\n",
        "    y.append(obesity(G))\n",
        "  plt.xlabel('Time')\n",
        "  plt.ylabel('Obesity')\n",
        "  plt.title('Change in Obesity')\n",
        "  plt.plot(x,y)\n",
        "  plt.show()"
      ],
      "execution_count": null,
      "outputs": []
    },
    {
      "cell_type": "code",
      "metadata": {
        "colab": {
          "base_uri": "https://localhost:8080/",
          "height": 295
        },
        "id": "JoGTIDwHE05A",
        "outputId": "48ace103-46c9-43d8-def9-0aad6538ede6"
      },
      "source": [
        "plot_obesity()"
      ],
      "execution_count": null,
      "outputs": [
        {
          "output_type": "display_data",
          "data": {
            "image/png": "[encoded data removed]",
            "text/plain": [
              "<Figure size 432x288 with 1 Axes>"
            ]
          },
          "metadata": {
            "tags": [],
            "needs_background": "light"
          }
        }
      ]
    },
    {
      "cell_type": "code",
      "metadata": {
        "id": "JKBp_7KUE31O"
      },
      "source": [
        ""
      ],
      "execution_count": null,
      "outputs": []
    }
  ]
}