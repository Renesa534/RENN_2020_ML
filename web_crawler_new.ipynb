{
  "nbformat": 4,
  "nbformat_minor": 0,
  "metadata": {
    "colab": {
      "name": "web_crawler_new.ipynb",
      "provenance": []
    },
    "kernelspec": {
      "name": "python3",
      "display_name": "Python 3"
    },
    "language_info": {
      "name": "python"
    }
  },
  "cells": [
    {
      "cell_type": "code",
      "metadata": {
        "id": "5X0Dg0zWwThJ"
      },
      "source": [
        "from matplotlib import pyplot as plt"
      ],
      "execution_count": null,
      "outputs": []
    },
    {
      "cell_type": "code",
      "metadata": {
        "id": "Vt5ppAaIt0ga",
        "colab": {
          "base_uri": "https://localhost:8080/"
        },
        "outputId": "3125c559-83ab-4dd7-a736-e8c6746b4381"
      },
      "source": [
        "import requests\n",
        "from bs4 import BeautifulSoup\n",
        "import pandas as pd\n",
        "from dateutil.parser import parse\n",
        "\n",
        "# Creating global to store various link and its modified time \n",
        "modified_time =[]\n",
        "internal_link_count=[]\n",
        "url_fragment_count=[]\n",
        "external_link_count=[]\n",
        "\n",
        "# Function to parse the html file using beautifulsoup\n",
        "def beautiful_soup(url):\n",
        "   page_response = requests.get(url)  #Getting raw data from URL\n",
        "   raw_data = BeautifulSoup(page_response.content, 'html.parser')\n",
        "   extract_timestamp(raw_data)\n",
        "   return raw_data\n",
        "\n",
        "# Function to extract links\n",
        "def extract_links(raw_data):\n",
        "  links=[]\n",
        "  anchor_data = raw_data.find_all('a')   # Extracting out the 'a' tagged elements\n",
        "  for link in anchor_data:\n",
        "    if 'href' in link.attrs:\n",
        "      links.append(str(link.attrs['href']))\n",
        "  return links\n",
        "\n",
        "# Function to extract the last time the page was modified \n",
        "def extract_timestamp(raw_data):\n",
        "  #Extracting out the 'li' tagged element w.r.t the id(i.e the timestamp regarding when the article was last modified)\n",
        "  time_stamp =  raw_data.find('li', id = \"footer-info-lastmod\")\n",
        "  if time_stamp == None:\n",
        "    modified_time.append('None')\n",
        "  else:\n",
        "    time_stamp= ''.join(map(str,(time_stamp.string).split()[6:]))\n",
        "    modified_time.append(parse(time_stamp).strftime('%Y-%m-%d::%H-%M'))\n",
        "\n",
        "# Fuction for grouping the links into internal, external and the links that reference contents within the same page (url fragments)\n",
        "def categorize_links(link_bucket):\n",
        "  internal_links=[]\n",
        "  url_fragments= []\n",
        "  external_links= []\n",
        "  for i in link_bucket:\n",
        "    if i.startswith('/wiki/'):\n",
        "      internal_links.append(i)\n",
        "    elif i.startswith('#'):\n",
        "      url_fragments.append(i)\n",
        "    elif i.startswith('https:'):\n",
        "      external_links.append(i)\n",
        "  # Keeping a track of count of each link type\n",
        "  internal_link_count.append(len(internal_links))\n",
        "  url_fragment_count.append(len(url_fragments))\n",
        "  external_link_count.append(len(external_links))\n",
        "  return internal_links\n",
        "\n",
        "more_internal_links_list=[]\n",
        "def internal_link(inner_links):\n",
        "  #print(internal_link_count)\n",
        "  for i in inner_links:\n",
        "    if len(internal_link_count)< 200:\n",
        "      new_link = \"https://simple.wikipedia.org\" + i\n",
        "      fetched_links = extract_links(beautiful_soup(new_link))\n",
        "      more_internal_links = categorize_links(fetched_links)\n",
        "    more_internal_links_list.append(more_internal_links)  \n",
        "\n",
        "def extract_more_internal_link(more_internal_links):\n",
        "  more_links = more_internal_links_list[0]\n",
        "  crawl = internal_link(more_links)\n",
        "  return crawl \n",
        "\n",
        "# Scraping the initial link\n",
        "initial_url = 'https://simple.wikipedia.org/wiki/Climate_change'\n",
        "link_bucket= extract_links(beautiful_soup(initial_url))\n",
        "initial_internal_links= categorize_links(link_bucket)\n",
        "int_links= internal_link(initial_internal_links)\n",
        "int_links1= extract_more_internal_link(int_links)\n",
        "\n",
        "\n",
        "num=[]\n",
        "for x in range(1,201):\n",
        "  num.append(x)\n",
        "\n",
        "#Organizing the collected data into a dataframe\n",
        "df= {'Pagecount' : num,\n",
        "                  'INTcount' : internal_link_count,\n",
        "                  'EXTcount' : external_link_count,\n",
        "                  'URLfragments' : url_fragment_count,\n",
        "     'timestamp' : modified_time}\n",
        "data= pd.DataFrame(df)\n",
        "print(data)\n"
      ],
      "execution_count": null,
      "outputs": [
        {
          "output_type": "stream",
          "name": "stdout",
          "text": [
            "     Pagecount  INTcount  EXTcount  URLfragments          timestamp\n",
            "0            1        41        99            18  2021-11-13::15-04\n",
            "1            2       190       189            93  2021-12-04::04-18\n",
            "2            3        51       153             4  2021-10-05::18-32\n",
            "3            4       663       329           173  2021-11-28::04-18\n",
            "4            5       190       189            93  2021-12-04::04-18\n",
            "..         ...       ...       ...           ...                ...\n",
            "195        196        43        28             2  2019-05-21::11-07\n",
            "196        197        32        69             8  2020-12-30::22-56\n",
            "197        198        51       116            18  2021-05-25::04-13\n",
            "198        199       231        37             2  2021-08-09::09-44\n",
            "199        200       506       265           275  2021-11-22::19-03\n",
            "\n",
            "[200 rows x 5 columns]\n"
          ]
        }
      ]
    },
    {
      "cell_type": "code",
      "source": [
        "# Using pandas mean and median function to find the respective values of Internal links count\n",
        "mean_int = data['INTcount'].mean()\n",
        "median_int = data['INTcount'].median()\n",
        "print (\"Internal Links -> Mean: {}, Median: {}\".format(mean_int, median_int))\n",
        "\n",
        "# Histogram visualization of internal links using 200 bins\n",
        "fig_int= plt.figure(figsize=(13, 7))\n",
        "plt.hist(df['INTcount'], bins=200)\n",
        "plt.xlabel(\"Internal links count\")\n",
        "plt.ylabel(\"Frequency\")\n",
        "plt.title(\"Frequency distribution of INTcount\")\n",
        "fig_int.savefig('internal_links_count.jpg')\n",
        "plt.show()\n",
        "\n",
        "# Using pandas mean and median function to find the respective values of External links count\n",
        "mean_int = data['EXTcount'].mean()\n",
        "median_int = data['EXTcount'].median()\n",
        "print (\"External Links-> Mean: {}, Median: {}\".format(mean_int, median_int))\n",
        "\n",
        "# Histogram visualization of external links using 200 bins\n",
        "fig_ext= plt.figure(figsize=(13, 7))\n",
        "plt.hist(df['EXTcount'], bins=200)\n",
        "plt.xlabel(\"External links count\")\n",
        "plt.ylabel(\"Frequency\")\n",
        "plt.title(\"Frequency distribution of EXTcount\")\n",
        "fig_ext.savefig('external_links_count.jpg')\n",
        "plt.show()\n",
        "\n",
        "# Using pandas mean and median function to find the respective values of URL Fragments links count\n",
        "mean_int = data['URLfragments'].mean()\n",
        "median_int = data['URLfragments'].median()\n",
        "print (\"URLfragments-> Mean: {}, Median: {}\".format(mean_int, median_int))\n",
        "\n",
        "# Histogram visualization of URL fragment links using 200 bins\n",
        "fig_urlfragment= plt.figure(figsize=(13, 7))\n",
        "plt.hist(df['URLfragments'], bins=200)\n",
        "plt.xlabel(\"URL fragments count\")\n",
        "plt.ylabel(\"Frequency\")\n",
        "plt.title(\"Frequency distribution of URLfragments\")\n",
        "fig_urlfragment.savefig('url_fragment_count.jpg')\n",
        "plt.show()\n",
        "\n",
        "# While looking at the data (as well as histograms )we can see that column EXTcount is evenly distributed\n",
        "# and hence mean is more relevant here but in INTcount and URLfragments median looks more accurate \n",
        "# because these have outliers which has altered the mean.\n",
        "\n",
        "new_df = data.copy()\n",
        "new_df.dropna(inplace = True) # Dropping None or Na values\n",
        "\n",
        "# Created a new column for calculating hour of the modified time\n",
        "new_df['hours'] = new_df['timestamp'].dt.strftime('%H')\n",
        "new_df.head()\n",
        "\n",
        "# To find the distribution we have found the frequency of modification at particular hour\n",
        "new_df['freq'] = new_df.groupby('hours')['hours'].transform('count')\n",
        "new_df.sort_values(['hours'], ascending=[True], inplace = True)\n",
        "\n",
        "# We have ploted a Line chart for frequency distribution, It can also be visualized using other charts using same values\n",
        "plt.figure(figsize=(16, 8))\n",
        "plt.plot(new_df['hours'], new_df['freq'], marker='o')\n",
        "plt.xlabel(\"Hour of day\")\n",
        "plt.ylabel(\"Number of pages modified\")\n",
        "plt.title(\"Frequency distribution for pages modified at what time\")\n",
        "plt.show()"
      ],
      "metadata": {
        "colab": {
          "base_uri": "https://localhost:8080/",
          "height": 1000
        },
        "id": "wcnCZl9zAgul",
        "outputId": "c11645b6-e598-4271-c70d-fe4f81df4055"
      },
      "execution_count": null,
      "outputs": [
        {
          "output_type": "stream",
          "name": "stdout",
          "text": [
            "Internal Links -> Mean: 138.635, Median: 67.0\n"
          ]
        },
        {
          "output_type": "display_data",
          "data": {
            "image/png": "[encoded data removed]",
            "text/plain": [
              "<Figure size 936x504 with 1 Axes>"
            ]
          },
          "metadata": {
            "needs_background": "light"
          }
        },
        {
          "output_type": "stream",
          "name": "stdout",
          "text": [
            "External Links-> Mean: 130.515, Median: 109.0\n"
          ]
        },
        {
          "output_type": "display_data",
          "data": {
            "image/png": "[encoded data removed]",
            "text/plain": [
              "<Figure size 936x504 with 1 Axes>"
            ]
          },
          "metadata": {
            "needs_background": "light"
          }
        },
        {
          "output_type": "stream",
          "name": "stdout",
          "text": [
            "URLfragments-> Mean: 28.535, Median: 12.0\n"
          ]
        },
        {
          "output_type": "display_data",
          "data": {
            "image/png": "[encoded data removed]",
            "text/plain": [
              "<Figure size 936x504 with 1 Axes>"
            ]
          },
          "metadata": {
            "needs_background": "light"
          }
        },
        {
          "output_type": "error",
          "ename": "AttributeError",
          "evalue": "ignored",
          "traceback": [
            "\u001b[0;31m---------------------------------------------------------------------------\u001b[0m",
            "\u001b[0;31mAttributeError\u001b[0m                            Traceback (most recent call last)",
            "\u001b[0;32m<ipython-input-3-344310e42e82>\u001b[0m in \u001b[0;36m<module>\u001b[0;34m()\u001b[0m\n\u001b[1;32m     49\u001b[0m \u001b[0;34m\u001b[0m\u001b[0m\n\u001b[1;32m     50\u001b[0m \u001b[0;31m# Created a new column for calculating hour of the modified time\u001b[0m\u001b[0;34m\u001b[0m\u001b[0;34m\u001b[0m\u001b[0;34m\u001b[0m\u001b[0m\n\u001b[0;32m---> 51\u001b[0;31m \u001b[0mnew_df\u001b[0m\u001b[0;34m[\u001b[0m\u001b[0;34m'hours'\u001b[0m\u001b[0;34m]\u001b[0m \u001b[0;34m=\u001b[0m \u001b[0mnew_df\u001b[0m\u001b[0;34m[\u001b[0m\u001b[0;34m'timestamp'\u001b[0m\u001b[0;34m]\u001b[0m\u001b[0;34m.\u001b[0m\u001b[0mdt\u001b[0m\u001b[0;34m.\u001b[0m\u001b[0mstrftime\u001b[0m\u001b[0;34m(\u001b[0m\u001b[0;34m'%H'\u001b[0m\u001b[0;34m)\u001b[0m\u001b[0;34m\u001b[0m\u001b[0;34m\u001b[0m\u001b[0m\n\u001b[0m\u001b[1;32m     52\u001b[0m \u001b[0mnew_df\u001b[0m\u001b[0;34m.\u001b[0m\u001b[0mhead\u001b[0m\u001b[0;34m(\u001b[0m\u001b[0;34m)\u001b[0m\u001b[0;34m\u001b[0m\u001b[0;34m\u001b[0m\u001b[0m\n\u001b[1;32m     53\u001b[0m \u001b[0;34m\u001b[0m\u001b[0m\n",
            "\u001b[0;32m/usr/local/lib/python3.7/dist-packages/pandas/core/generic.py\u001b[0m in \u001b[0;36m__getattr__\u001b[0;34m(self, name)\u001b[0m\n\u001b[1;32m   5135\u001b[0m             \u001b[0;32mor\u001b[0m \u001b[0mname\u001b[0m \u001b[0;32min\u001b[0m \u001b[0mself\u001b[0m\u001b[0;34m.\u001b[0m\u001b[0m_accessors\u001b[0m\u001b[0;34m\u001b[0m\u001b[0;34m\u001b[0m\u001b[0m\n\u001b[1;32m   5136\u001b[0m         ):\n\u001b[0;32m-> 5137\u001b[0;31m             \u001b[0;32mreturn\u001b[0m \u001b[0mobject\u001b[0m\u001b[0;34m.\u001b[0m\u001b[0m__getattribute__\u001b[0m\u001b[0;34m(\u001b[0m\u001b[0mself\u001b[0m\u001b[0;34m,\u001b[0m \u001b[0mname\u001b[0m\u001b[0;34m)\u001b[0m\u001b[0;34m\u001b[0m\u001b[0;34m\u001b[0m\u001b[0m\n\u001b[0m\u001b[1;32m   5138\u001b[0m         \u001b[0;32melse\u001b[0m\u001b[0;34m:\u001b[0m\u001b[0;34m\u001b[0m\u001b[0;34m\u001b[0m\u001b[0m\n\u001b[1;32m   5139\u001b[0m             \u001b[0;32mif\u001b[0m \u001b[0mself\u001b[0m\u001b[0;34m.\u001b[0m\u001b[0m_info_axis\u001b[0m\u001b[0;34m.\u001b[0m\u001b[0m_can_hold_identifiers_and_holds_name\u001b[0m\u001b[0;34m(\u001b[0m\u001b[0mname\u001b[0m\u001b[0;34m)\u001b[0m\u001b[0;34m:\u001b[0m\u001b[0;34m\u001b[0m\u001b[0;34m\u001b[0m\u001b[0m\n",
            "\u001b[0;32m/usr/local/lib/python3.7/dist-packages/pandas/core/accessor.py\u001b[0m in \u001b[0;36m__get__\u001b[0;34m(self, obj, cls)\u001b[0m\n\u001b[1;32m    185\u001b[0m             \u001b[0;31m# we're accessing the attribute of the class, i.e., Dataset.geo\u001b[0m\u001b[0;34m\u001b[0m\u001b[0;34m\u001b[0m\u001b[0;34m\u001b[0m\u001b[0m\n\u001b[1;32m    186\u001b[0m             \u001b[0;32mreturn\u001b[0m \u001b[0mself\u001b[0m\u001b[0;34m.\u001b[0m\u001b[0m_accessor\u001b[0m\u001b[0;34m\u001b[0m\u001b[0;34m\u001b[0m\u001b[0m\n\u001b[0;32m--> 187\u001b[0;31m         \u001b[0maccessor_obj\u001b[0m \u001b[0;34m=\u001b[0m \u001b[0mself\u001b[0m\u001b[0;34m.\u001b[0m\u001b[0m_accessor\u001b[0m\u001b[0;34m(\u001b[0m\u001b[0mobj\u001b[0m\u001b[0;34m)\u001b[0m\u001b[0;34m\u001b[0m\u001b[0;34m\u001b[0m\u001b[0m\n\u001b[0m\u001b[1;32m    188\u001b[0m         \u001b[0;31m# Replace the property with the accessor object. Inspired by:\u001b[0m\u001b[0;34m\u001b[0m\u001b[0;34m\u001b[0m\u001b[0;34m\u001b[0m\u001b[0m\n\u001b[1;32m    189\u001b[0m         \u001b[0;31m# https://www.pydanny.com/cached-property.html\u001b[0m\u001b[0;34m\u001b[0m\u001b[0;34m\u001b[0m\u001b[0;34m\u001b[0m\u001b[0m\n",
            "\u001b[0;32m/usr/local/lib/python3.7/dist-packages/pandas/core/indexes/accessors.py\u001b[0m in \u001b[0;36m__new__\u001b[0;34m(cls, data)\u001b[0m\n\u001b[1;32m    478\u001b[0m             \u001b[0;32mreturn\u001b[0m \u001b[0mPeriodProperties\u001b[0m\u001b[0;34m(\u001b[0m\u001b[0mdata\u001b[0m\u001b[0;34m,\u001b[0m \u001b[0morig\u001b[0m\u001b[0;34m)\u001b[0m\u001b[0;34m\u001b[0m\u001b[0;34m\u001b[0m\u001b[0m\n\u001b[1;32m    479\u001b[0m \u001b[0;34m\u001b[0m\u001b[0m\n\u001b[0;32m--> 480\u001b[0;31m         \u001b[0;32mraise\u001b[0m \u001b[0mAttributeError\u001b[0m\u001b[0;34m(\u001b[0m\u001b[0;34m\"Can only use .dt accessor with datetimelike values\"\u001b[0m\u001b[0;34m)\u001b[0m\u001b[0;34m\u001b[0m\u001b[0;34m\u001b[0m\u001b[0m\n\u001b[0m",
            "\u001b[0;31mAttributeError\u001b[0m: Can only use .dt accessor with datetimelike values"
          ]
        }
      ]
    },
    {
      "cell_type": "code",
      "source": [
        ""
      ],
      "metadata": {
        "id": "kUz2kb3vBDTX"
      },
      "execution_count": null,
      "outputs": []
    }
  ]
}