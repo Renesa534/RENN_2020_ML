{
  "nbformat": 4,
  "nbformat_minor": 0,
  "metadata": {
    "colab": {
      "name": "VGG16.ipynb",
      "provenance": []
    },
    "kernelspec": {
      "name": "python3",
      "display_name": "Python 3"
    },
    "accelerator": "GPU"
  },
  "cells": [
    {
      "cell_type": "code",
      "metadata": {
        "id": "GdRU4SwdmeK1"
      },
      "source": [
        "import os\n",
        "\n",
        "from tensorflow.keras import layers\n",
        "from tensorflow.keras import Model\n",
        "from subprocess import check_output\n",
        "from os import listdir, makedirs\n",
        "from os.path import join, exists, expanduser"
      ],
      "execution_count": null,
      "outputs": []
    },
    {
      "cell_type": "code",
      "metadata": {
        "id": "xhf6Nggrmmza"
      },
      "source": [
        "from keras.applications.vgg16 import VGG16\n",
        "WEIGHTS_DIR = '../input/vgg16'\n"
      ],
      "execution_count": null,
      "outputs": []
    },
    {
      "cell_type": "code",
      "metadata": {
        "id": "0kP2TDZGnYRD"
      },
      "source": [
        "local_weights_file= 'vgg16_weights_tf_dim_ordering_tf_kernels_notop.h5'\n",
        "pre_trained_model= VGG16(input_shape= (150,150,3),\n",
        "                         include_top= False,\n",
        "                         weights= None)\n",
        "pre_trained_model.load_weights(local_weights_file)\n",
        "for layer in pre_trained_model.layers:\n",
        "  layer.trainable= False"
      ],
      "execution_count": null,
      "outputs": []
    },
    {
      "cell_type": "code",
      "metadata": {
        "id": "45feAyezr6Ut",
        "colab": {
          "base_uri": "https://localhost:8080/"
        },
        "outputId": "d53d56c7-ca71-4661-91e0-164184e7f469"
      },
      "source": [
        "pre_trained_model.summary()"
      ],
      "execution_count": null,
      "outputs": [
        {
          "output_type": "stream",
          "text": [
            "Model: \"vgg16\"\n",
            "_________________________________________________________________\n",
            "Layer (type)                 Output Shape              Param #   \n",
            "=================================================================\n",
            "input_2 (InputLayer)         [(None, 150, 150, 3)]     0         \n",
            "_________________________________________________________________\n",
            "block1_conv1 (Conv2D)        (None, 150, 150, 64)      1792      \n",
            "_________________________________________________________________\n",
            "block1_conv2 (Conv2D)        (None, 150, 150, 64)      36928     \n",
            "_________________________________________________________________\n",
            "block1_pool (MaxPooling2D)   (None, 75, 75, 64)        0         \n",
            "_________________________________________________________________\n",
            "block2_conv1 (Conv2D)        (None, 75, 75, 128)       73856     \n",
            "_________________________________________________________________\n",
            "block2_conv2 (Conv2D)        (None, 75, 75, 128)       147584    \n",
            "_________________________________________________________________\n",
            "block2_pool (MaxPooling2D)   (None, 37, 37, 128)       0         \n",
            "_________________________________________________________________\n",
            "block3_conv1 (Conv2D)        (None, 37, 37, 256)       295168    \n",
            "_________________________________________________________________\n",
            "block3_conv2 (Conv2D)        (None, 37, 37, 256)       590080    \n",
            "_________________________________________________________________\n",
            "block3_conv3 (Conv2D)        (None, 37, 37, 256)       590080    \n",
            "_________________________________________________________________\n",
            "block3_pool (MaxPooling2D)   (None, 18, 18, 256)       0         \n",
            "_________________________________________________________________\n",
            "block4_conv1 (Conv2D)        (None, 18, 18, 512)       1180160   \n",
            "_________________________________________________________________\n",
            "block4_conv2 (Conv2D)        (None, 18, 18, 512)       2359808   \n",
            "_________________________________________________________________\n",
            "block4_conv3 (Conv2D)        (None, 18, 18, 512)       2359808   \n",
            "_________________________________________________________________\n",
            "block4_pool (MaxPooling2D)   (None, 9, 9, 512)         0         \n",
            "_________________________________________________________________\n",
            "block5_conv1 (Conv2D)        (None, 9, 9, 512)         2359808   \n",
            "_________________________________________________________________\n",
            "block5_conv2 (Conv2D)        (None, 9, 9, 512)         2359808   \n",
            "_________________________________________________________________\n",
            "block5_conv3 (Conv2D)        (None, 9, 9, 512)         2359808   \n",
            "_________________________________________________________________\n",
            "block5_pool (MaxPooling2D)   (None, 4, 4, 512)         0         \n",
            "=================================================================\n",
            "Total params: 14,714,688\n",
            "Trainable params: 0\n",
            "Non-trainable params: 14,714,688\n",
            "_________________________________________________________________\n"
          ],
          "name": "stdout"
        }
      ]
    },
    {
      "cell_type": "code",
      "metadata": {
        "id": "B645A3c8uJHR"
      },
      "source": [
        "last_layer= pre_trained_model.get_layer('block5_pool')\n",
        "last_output= last_layer.output                                     "
      ],
      "execution_count": null,
      "outputs": []
    },
    {
      "cell_type": "code",
      "metadata": {
        "id": "6K_Fba2GAcfd"
      },
      "source": [
        "#from tensorflow.keras.optimizers import RMSprop\n",
        "x= layers.Flatten()(last_output)\n",
        "x= layers.Dense(1024, activation= 'relu')(x)\n",
        "x= layers.Dropout(0.2)(x)\n",
        "x= layers.Dense(10, activation= 'softmax')(x)\n",
        "model= Model(pre_trained_model.input,x)\n",
        "model.compile(optimizer= 'adam',loss= 'sparse_categorical_crossentropy',metrics= ['accuracy'])"
      ],
      "execution_count": null,
      "outputs": []
    },
    {
      "cell_type": "code",
      "metadata": {
        "id": "FifqRs9XuLcC"
      },
      "source": [
        "import numpy as np\n",
        "import matplotlib.pyplot as plt\n",
        "\n"
      ],
      "execution_count": null,
      "outputs": []
    },
    {
      "cell_type": "code",
      "metadata": {
        "colab": {
          "base_uri": "https://localhost:8080/",
          "height": 374
        },
        "id": "VpeG2lkNuTGC",
        "outputId": "2094c62b-1eb1-4dc0-ff33-2a50f8dc4294"
      },
      "source": [
        "!pip install pyunpack\n",
        "!pip install patool"
      ],
      "execution_count": null,
      "outputs": [
        {
          "output_type": "stream",
          "text": [
            "Collecting pyunpack\n",
            "  Downloading https://files.pythonhosted.org/packages/83/29/020436b1d8e96e5f26fa282b9c3c13a3b456a36b9ea2edc87c5fed008369/pyunpack-0.2.2-py2.py3-none-any.whl\n",
            "Collecting easyprocess\n",
            "  Downloading https://files.pythonhosted.org/packages/48/3c/75573613641c90c6d094059ac28adb748560d99bd27ee6f80cce398f404e/EasyProcess-0.3-py2.py3-none-any.whl\n",
            "Collecting entrypoint2\n",
            "  Downloading https://files.pythonhosted.org/packages/c2/ca/00c8767568924e5c2209da99b6abdeeed9d11cbae2a713d54d041b092a09/entrypoint2-0.2.3-py2.py3-none-any.whl\n",
            "Collecting argparse\n",
            "  Downloading https://files.pythonhosted.org/packages/f2/94/3af39d34be01a24a6e65433d19e107099374224905f1e0cc6bbe1fd22a2f/argparse-1.4.0-py2.py3-none-any.whl\n",
            "Installing collected packages: easyprocess, argparse, entrypoint2, pyunpack\n",
            "Successfully installed argparse-1.4.0 easyprocess-0.3 entrypoint2-0.2.3 pyunpack-0.2.2\n"
          ],
          "name": "stdout"
        },
        {
          "output_type": "display_data",
          "data": {
            "application/vnd.colab-display-data+json": {
              "pip_warning": {
                "packages": [
                  "argparse"
                ]
              }
            }
          },
          "metadata": {
            "tags": []
          }
        },
        {
          "output_type": "stream",
          "text": [
            "Collecting patool\n",
            "\u001b[?25l  Downloading https://files.pythonhosted.org/packages/43/94/52243ddff508780dd2d8110964320ab4851134a55ab102285b46e740f76a/patool-1.12-py2.py3-none-any.whl (77kB)\n",
            "\r\u001b[K     |████▎                           | 10kB 22.8MB/s eta 0:00:01\r\u001b[K     |████████▌                       | 20kB 22.0MB/s eta 0:00:01\r\u001b[K     |████████████▊                   | 30kB 11.8MB/s eta 0:00:01\r\u001b[K     |█████████████████               | 40kB 9.5MB/s eta 0:00:01\r\u001b[K     |█████████████████████▏          | 51kB 7.8MB/s eta 0:00:01\r\u001b[K     |█████████████████████████▍      | 61kB 7.6MB/s eta 0:00:01\r\u001b[K     |█████████████████████████████▋  | 71kB 8.6MB/s eta 0:00:01\r\u001b[K     |████████████████████████████████| 81kB 5.8MB/s \n",
            "\u001b[?25hInstalling collected packages: patool\n",
            "Successfully installed patool-1.12\n"
          ],
          "name": "stdout"
        }
      ]
    },
    {
      "cell_type": "code",
      "metadata": {
        "colab": {
          "base_uri": "https://localhost:8080/"
        },
        "id": "daaNrl_-uUwR",
        "outputId": "5d6222cb-1d66-46d0-e414-1886bdf15619"
      },
      "source": [
        "from google.colab import drive\n",
        "drive.mount('/content/drive')"
      ],
      "execution_count": null,
      "outputs": [
        {
          "output_type": "stream",
          "text": [
            "Mounted at /content/drive\n"
          ],
          "name": "stdout"
        }
      ]
    },
    {
      "cell_type": "code",
      "metadata": {
        "id": "qAIfBnGLubU8"
      },
      "source": [
        "from pyunpack import Archive\n",
        "Archive('/content/drive/My Drive/Colab Notebooks/CatvsDogs.rar').extractall('/content')"
      ],
      "execution_count": null,
      "outputs": []
    },
    {
      "cell_type": "code",
      "metadata": {
        "id": "1ChEnMPkumSL"
      },
      "source": [
        "import pandas as pd\n",
        "from sklearn.model_selection import train_test_split\n",
        "import os\n",
        "filenames = os.listdir('/content/train')\n",
        "\n",
        "categories=[]\n",
        "for f_name in filenames:\n",
        "  category = f_name.split('.')[0]\n",
        "  if category =='dog':\n",
        "    categories.append(1)\n",
        "  else:\n",
        "    categories.append(0)\n",
        "\n",
        "df = pd.DataFrame({\n",
        "    'filename':filenames,\n",
        "    'category':categories\n",
        "})"
      ],
      "execution_count": null,
      "outputs": []
    },
    {
      "cell_type": "code",
      "metadata": {
        "id": "YG_hrZStvLUZ",
        "colab": {
          "base_uri": "https://localhost:8080/",
          "height": 195
        },
        "outputId": "3ee266ab-bde2-45b0-ae84-d95b3065616a"
      },
      "source": [
        "df.head()"
      ],
      "execution_count": null,
      "outputs": [
        {
          "output_type": "execute_result",
          "data": {
            "text/html": [
              "<div>\n",
              "<style scoped>\n",
              "    .dataframe tbody tr th:only-of-type {\n",
              "        vertical-align: middle;\n",
              "    }\n",
              "\n",
              "    .dataframe tbody tr th {\n",
              "        vertical-align: top;\n",
              "    }\n",
              "\n",
              "    .dataframe thead th {\n",
              "        text-align: right;\n",
              "    }\n",
              "</style>\n",
              "<table border=\"1\" class=\"dataframe\">\n",
              "  <thead>\n",
              "    <tr style=\"text-align: right;\">\n",
              "      <th></th>\n",
              "      <th>filename</th>\n",
              "      <th>category</th>\n",
              "    </tr>\n",
              "  </thead>\n",
              "  <tbody>\n",
              "    <tr>\n",
              "      <th>0</th>\n",
              "      <td>dog.7707.jpg</td>\n",
              "      <td>1</td>\n",
              "    </tr>\n",
              "    <tr>\n",
              "      <th>1</th>\n",
              "      <td>dog.10931.jpg</td>\n",
              "      <td>1</td>\n",
              "    </tr>\n",
              "    <tr>\n",
              "      <th>2</th>\n",
              "      <td>cat.10139.jpg</td>\n",
              "      <td>0</td>\n",
              "    </tr>\n",
              "    <tr>\n",
              "      <th>3</th>\n",
              "      <td>dog.5699.jpg</td>\n",
              "      <td>1</td>\n",
              "    </tr>\n",
              "    <tr>\n",
              "      <th>4</th>\n",
              "      <td>cat.5694.jpg</td>\n",
              "      <td>0</td>\n",
              "    </tr>\n",
              "  </tbody>\n",
              "</table>\n",
              "</div>"
            ],
            "text/plain": [
              "        filename  category\n",
              "0   dog.7707.jpg         1\n",
              "1  dog.10931.jpg         1\n",
              "2  cat.10139.jpg         0\n",
              "3   dog.5699.jpg         1\n",
              "4   cat.5694.jpg         0"
            ]
          },
          "metadata": {
            "tags": []
          },
          "execution_count": 13
        }
      ]
    },
    {
      "cell_type": "code",
      "metadata": {
        "id": "EnwtJgGBvMfd"
      },
      "source": [
        "import tensorflow as tf\n"
      ],
      "execution_count": null,
      "outputs": []
    },
    {
      "cell_type": "code",
      "metadata": {
        "id": "qArU0pfKvW2q"
      },
      "source": [
        "df['category']= df['category'].replace({0: 'cat,',1: 'dog'})\n",
        "train_df, validation_df= train_test_split(df, test_size=0.2, random_state=42)\n",
        "train_df= train_df.reset_index(drop= True)\n",
        "validation_df= validation_df.reset_index(drop=True)\n",
        "total_train= train_df.shape[0]\n",
        "total_validate= validation_df.shape[0]"
      ],
      "execution_count": null,
      "outputs": []
    },
    {
      "cell_type": "code",
      "metadata": {
        "colab": {
          "base_uri": "https://localhost:8080/"
        },
        "id": "4sPrIBZLvpYs",
        "outputId": "2fe83873-a597-46b8-d5e1-d0a64d69a974"
      },
      "source": [
        "from tensorflow.keras.preprocessing.image import ImageDataGenerator\n",
        "train_datagen= ImageDataGenerator(rescale= 1./255, rotation_range=20, shear_range=0.1, zoom_range=0.1, horizontal_flip=True, width_shift_range=0.1, height_shift_range= 0.1)\n",
        "test_datagen= ImageDataGenerator(rescale= 1./255)\n",
        "train_generator= train_datagen.flow_from_dataframe(train_df,'/content/train',x_col= 'filename',y_col= 'category', target_size= (128,128), batch_size= 32, class_mode= 'binary')\n",
        "validation_generator= test_datagen.flow_from_dataframe(validation_df,'/content/train',x_col= 'filename',y_col= 'category', target_size= (128,128), batch_size= 32, class_mode= 'binary')"
      ],
      "execution_count": null,
      "outputs": [
        {
          "output_type": "stream",
          "text": [
            "Found 20000 validated image filenames belonging to 2 classes.\n",
            "Found 5000 validated image filenames belonging to 2 classes.\n"
          ],
          "name": "stdout"
        }
      ]
    },
    {
      "cell_type": "code",
      "metadata": {
        "id": "JRP4xtqKCccV"
      },
      "source": [
        "early_stopping= tf.keras.callbacks.EarlyStopping(patience= 5)"
      ],
      "execution_count": null,
      "outputs": []
    },
    {
      "cell_type": "code",
      "metadata": {
        "id": "A8hbS_KwCi58",
        "colab": {
          "base_uri": "https://localhost:8080/"
        },
        "outputId": "d315ebb8-b820-4073-84c3-ece4fdac1b51"
      },
      "source": [
        "history= model.fit(\n",
        "     train_generator,\n",
        "     validation_data= validation_generator,\n",
        "     epochs= 20,\n",
        "     steps_per_epoch= 100,\n",
        "     validation_steps= 50,\n",
        "     verbose= 2, callbacks= [early_stopping]\n",
        " )"
      ],
      "execution_count": null,
      "outputs": [
        {
          "output_type": "stream",
          "text": [
            "Epoch 1/20\n",
            "100/100 - 25s - loss: 0.7484 - accuracy: 0.7700 - val_loss: 0.2809 - val_accuracy: 0.8806\n",
            "Epoch 2/20\n",
            "100/100 - 25s - loss: 0.4409 - accuracy: 0.8163 - val_loss: 0.2557 - val_accuracy: 0.8963\n",
            "Epoch 3/20\n",
            "100/100 - 25s - loss: 0.3404 - accuracy: 0.8525 - val_loss: 0.2824 - val_accuracy: 0.8687\n",
            "Epoch 4/20\n",
            "100/100 - 25s - loss: 0.3397 - accuracy: 0.8519 - val_loss: 0.2740 - val_accuracy: 0.8775\n",
            "Epoch 5/20\n",
            "100/100 - 25s - loss: 0.3109 - accuracy: 0.8656 - val_loss: 0.3028 - val_accuracy: 0.8525\n",
            "Epoch 6/20\n",
            "100/100 - 25s - loss: 0.3036 - accuracy: 0.8687 - val_loss: 0.2764 - val_accuracy: 0.8763\n",
            "Epoch 7/20\n",
            "100/100 - 25s - loss: 0.3266 - accuracy: 0.8534 - val_loss: 0.2889 - val_accuracy: 0.8719\n"
          ],
          "name": "stdout"
        }
      ]
    },
    {
      "cell_type": "code",
      "metadata": {
        "id": "AnPO01SJCnHq",
        "colab": {
          "base_uri": "https://localhost:8080/",
          "height": 295
        },
        "outputId": "7e5d65ce-4cc0-4e54-85f5-94c449ec192d"
      },
      "source": [
        "import matplotlib.pyplot as plt\n",
        "plt.plot(history.history['accuracy'], label= 'training accuracy')\n",
        "plt.plot(history.history['val_accuracy'], label= 'validation accuracy')\n",
        "plt.title('model accuracy')\n",
        "plt.xlabel('epochs')\n",
        "plt.ylabel('accuracy')\n",
        "plt.legend()                                                                    \n",
        "plt.show()"
      ],
      "execution_count": null,
      "outputs": [
        {
          "output_type": "display_data",
          "data": {
            "image/png": "[encoded data removed]",
            "text/plain": [
              "<Figure size 432x288 with 1 Axes>"
            ]
          },
          "metadata": {
            "tags": [],
            "needs_background": "light"
          }
        }
      ]
    },
    {
      "cell_type": "code",
      "metadata": {
        "colab": {
          "base_uri": "https://localhost:8080/",
          "height": 295
        },
        "id": "go5oyn3IdDQp",
        "outputId": "7b994268-9949-40f7-c94a-058e87ce5850"
      },
      "source": [
        "import matplotlib.pyplot as plt\n",
        "plt.plot(history.history['loss'], label= 'training loss')\n",
        "plt.plot(history.history['val_loss'], label= 'validation loss')\n",
        "plt.title('model loss')\n",
        "plt.xlabel('epochs')\n",
        "plt.ylabel('loss')\n",
        "plt.legend()\n",
        "plt.show()"
      ],
      "execution_count": null,
      "outputs": [
        {
          "output_type": "display_data",
          "data": {
            "image/png": "[encoded data removed]",
            "text/plain": [
              "<Figure size 432x288 with 1 Axes>"
            ]
          },
          "metadata": {
            "tags": [],
            "needs_background": "light"
          }
        }
      ]
    },
    {
      "cell_type": "code",
      "metadata": {
        "id": "kx18WpgFdWdp"
      },
      "source": [
        ""
      ],
      "execution_count": null,
      "outputs": []
    }
  ]
}