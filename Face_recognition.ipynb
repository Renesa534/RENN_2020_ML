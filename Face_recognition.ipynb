{
  "nbformat": 4,
  "nbformat_minor": 0,
  "metadata": {
    "colab": {
      "name": "Face recognition.ipynb",
      "provenance": []
    },
    "kernelspec": {
      "name": "python3",
      "display_name": "Python 3"
    },
    "accelerator": "GPU"
  },
  "cells": [
    {
      "cell_type": "code",
      "metadata": {
        "id": "aPXqHaATiPj2"
      },
      "source": [
        "import os\n",
        "import zipfile\n",
        "import tensorflow as tf\n",
        "from tensorflow.keras.optimizers import RMSprop\n",
        "from tensorflow.keras.preprocessing.image import ImageDataGenerator \n",
        "from keras.applications.vgg16 import VGG16\n",
        "from tensorflow.keras import Model"
      ],
      "execution_count": null,
      "outputs": []
    },
    {
      "cell_type": "code",
      "metadata": {
        "id": "nC5-Uy5NGx2z"
      },
      "source": [
        "local_weights_file= 'vgg16_weights_tf_dim_ordering_tf_kernels_notop.h5'\n",
        "pre_trained_model= VGG16(input_shape= (100,100,3),\n",
        "                         include_top= False,\n",
        "                         weights= None)\n",
        "pre_trained_model.load_weights(local_weights_file)\n",
        "for layer in pre_trained_model.layers:\n",
        "  layer.trainable= False"
      ],
      "execution_count": null,
      "outputs": []
    },
    {
      "cell_type": "code",
      "metadata": {
        "colab": {
          "base_uri": "https://localhost:8080/"
        },
        "id": "lmXPiFORKQQ7",
        "outputId": "c95b9c07-6151-4b62-ae06-cdefa55a31d9"
      },
      "source": [
        "pre_trained_model.summary()"
      ],
      "execution_count": null,
      "outputs": [
        {
          "output_type": "stream",
          "text": [
            "Model: \"vgg16\"\n",
            "_________________________________________________________________\n",
            "Layer (type)                 Output Shape              Param #   \n",
            "=================================================================\n",
            "input_1 (InputLayer)         [(None, 100, 100, 3)]     0         \n",
            "_________________________________________________________________\n",
            "block1_conv1 (Conv2D)        (None, 100, 100, 64)      1792      \n",
            "_________________________________________________________________\n",
            "block1_conv2 (Conv2D)        (None, 100, 100, 64)      36928     \n",
            "_________________________________________________________________\n",
            "block1_pool (MaxPooling2D)   (None, 50, 50, 64)        0         \n",
            "_________________________________________________________________\n",
            "block2_conv1 (Conv2D)        (None, 50, 50, 128)       73856     \n",
            "_________________________________________________________________\n",
            "block2_conv2 (Conv2D)        (None, 50, 50, 128)       147584    \n",
            "_________________________________________________________________\n",
            "block2_pool (MaxPooling2D)   (None, 25, 25, 128)       0         \n",
            "_________________________________________________________________\n",
            "block3_conv1 (Conv2D)        (None, 25, 25, 256)       295168    \n",
            "_________________________________________________________________\n",
            "block3_conv2 (Conv2D)        (None, 25, 25, 256)       590080    \n",
            "_________________________________________________________________\n",
            "block3_conv3 (Conv2D)        (None, 25, 25, 256)       590080    \n",
            "_________________________________________________________________\n",
            "block3_pool (MaxPooling2D)   (None, 12, 12, 256)       0         \n",
            "_________________________________________________________________\n",
            "block4_conv1 (Conv2D)        (None, 12, 12, 512)       1180160   \n",
            "_________________________________________________________________\n",
            "block4_conv2 (Conv2D)        (None, 12, 12, 512)       2359808   \n",
            "_________________________________________________________________\n",
            "block4_conv3 (Conv2D)        (None, 12, 12, 512)       2359808   \n",
            "_________________________________________________________________\n",
            "block4_pool (MaxPooling2D)   (None, 6, 6, 512)         0         \n",
            "_________________________________________________________________\n",
            "block5_conv1 (Conv2D)        (None, 6, 6, 512)         2359808   \n",
            "_________________________________________________________________\n",
            "block5_conv2 (Conv2D)        (None, 6, 6, 512)         2359808   \n",
            "_________________________________________________________________\n",
            "block5_conv3 (Conv2D)        (None, 6, 6, 512)         2359808   \n",
            "_________________________________________________________________\n",
            "block5_pool (MaxPooling2D)   (None, 3, 3, 512)         0         \n",
            "=================================================================\n",
            "Total params: 14,714,688\n",
            "Trainable params: 0\n",
            "Non-trainable params: 14,714,688\n",
            "_________________________________________________________________\n"
          ],
          "name": "stdout"
        }
      ]
    },
    {
      "cell_type": "code",
      "metadata": {
        "id": "AX2nyi3bKVQ-"
      },
      "source": [
        "last_layer= pre_trained_model.get_layer('block5_pool')\n",
        "last_output= last_layer.output"
      ],
      "execution_count": null,
      "outputs": []
    },
    {
      "cell_type": "code",
      "metadata": {
        "id": "-ioIanroK9oK"
      },
      "source": [
        "from tensorflow.keras import layers\n",
        "x= layers.Flatten()(last_output)\n",
        "x= layers.Dense(512, activation= 'relu')(x)\n",
        "x= layers.Dropout(0.5)(x)\n",
        "x= layers.Dense(14, activation= 'softmax')(x)\n",
        "model= Model(pre_trained_model.input,x)\n",
        "model.compile(optimizer= 'adam',loss= 'categorical_crossentropy',metrics= ['accuracy'])"
      ],
      "execution_count": null,
      "outputs": []
    },
    {
      "cell_type": "code",
      "metadata": {
        "id": "lqgsBY6tjAWK",
        "colab": {
          "base_uri": "https://localhost:8080/"
        },
        "outputId": "0acc3ebb-66ca-4781-bd13-29fdf8afc6f1"
      },
      "source": [
        "from google.colab import drive\n",
        "drive.mount('/content/drive')       "
      ],
      "execution_count": null,
      "outputs": [
        {
          "output_type": "stream",
          "text": [
            "Drive already mounted at /content/drive; to attempt to forcibly remount, call drive.mount(\"/content/drive\", force_remount=True).\n"
          ],
          "name": "stdout"
        }
      ]
    },
    {
      "cell_type": "code",
      "metadata": {
        "id": "bVPDHIxxjtS5"
      },
      "source": [
        "local_zip = '/content/drive/My Drive/ml/zip/face_recognition.zip'\n",
        "zip_ref = zipfile.ZipFile(local_zip, 'r')\n",
        "zip_ref.extractall('/tmp')\n",
        "zip_ref.close()"
      ],
      "execution_count": null,
      "outputs": []
    },
    {
      "cell_type": "code",
      "metadata": {
        "id": "UGGlQWhDklrB"
      },
      "source": [
        "base_dir = '/tmp/face_recognition'                                      \n",
        "train_dir = os.path.join(base_dir, 'train')\n",
        "validation_dir = os.path.join(base_dir, 'test')"
      ],
      "execution_count": null,
      "outputs": []
    },
    {
      "cell_type": "code",
      "metadata": {
        "id": "IjwqMrBBlMz4"
      },
      "source": [
        "train_renesa_dir = os.path.join(train_dir, 'Renesa Ray')\n",
        "train_purvika_dir = os.path.join(train_dir, 'Purvika Bajaj')\n",
        "train_shivani_dir = os.path.join(train_dir, 'Shivani Dere')\n",
        "train_maziya_dir = os.path.join(train_dir, 'Maziya Fatima')\n",
        "train_sagarika_dir = os.path.join(train_dir, 'Sagarika Verma')\n",
        "train_unzela_dir = os.path.join(train_dir, 'Unzela Inamdar')\n",
        "train_swati_dir = os.path.join(train_dir, 'Swati Raj')\n",
        "train_shraddha_dir = os.path.join(train_dir, 'Shraddha')\n",
        "train_rahul_dir = os.path.join(train_dir, 'Rahul Barman')\n",
        "train_abhishek_dir = os.path.join(train_dir, 'Abhishek Saxena')\n",
        "train_divya_dir = os.path.join(train_dir, 'Divya Saxena')\n",
        "train_sayali_dir= os.path.join(train_dir, 'Sayali Badade')\n",
        "train_shubhankar_dir = os.path.join(train_dir, 'Shubhankar Pawar')\n",
        "train_benoi_dir = os.path.join(train_dir, 'Benoi Alex')"
      ],
      "execution_count": null,
      "outputs": []
    },
    {
      "cell_type": "code",
      "metadata": {
        "id": "MlSQcJpYmgcR"
      },
      "source": [
        "validation_renesa_dir = os.path.join(validation_dir, 'Renesa Ray_test')\n",
        "validation_purvika_dir = os.path.join(validation_dir, 'Purvika Bajaj_test')\n",
        "validation_shivani_dir = os.path.join(validation_dir, 'Shivani Dere_test')\n",
        "validation_maziya_dir = os.path.join(validation_dir, 'Maziya Fatima_test')\n",
        "validation_sagarika_dir = os.path.join(validation_dir, 'Sagarika Verma_test')\n",
        "validation_unzela_dir = os.path.join(validation_dir, 'Unzela Inamdar_test')\n",
        "validation_swati_dir = os.path.join(validation_dir, 'Swati Raj_test')\n",
        "validation_sayali_dir= os.path.join(validation_dir, 'Sayali Badade_test ')\n",
        "validation_rahul_dir = os.path.join(validation_dir, 'Rahul Barman_test')\n",
        "validation_abhishek_dir = os.path.join(validation_dir, 'Abhishek Saxena_test')\n",
        "validation_divya_dir = os.path.join(validation_dir, 'Divya Saxena_test')\n",
        "validation_shraddha_dir = os.path.join(validation_dir, 'Shraddha_test')\n",
        "validation_shubhankar_dir = os.path.join(validation_dir, 'Shubhankar Pawar_test')\n",
        "validation_benoi_dir = os.path.join(validation_dir, 'Benoi Alex_test')"
      ],
      "execution_count": null,
      "outputs": []
    },
    {
      "cell_type": "code",
      "metadata": {
        "id": "824JvnRhs8jt",
        "colab": {
          "base_uri": "https://localhost:8080/"
        },
        "outputId": "5679cf2d-3c25-441f-d8d2-3066a5cebe04"
      },
      "source": [
        "train_ren_names= os.listdir(train_renesa_dir)\n",
        "print(train_ren_names[:10])\n",
        "train_puri_names= os.listdir(train_purvika_dir)\n",
        "print(train_puri_names[:10])\n",
        "train_shivu_names= os.listdir(train_shivani_dir)\n",
        "print(train_shivu_names[:10])\n",
        "train_mazi_names= os.listdir(train_maziya_dir)\n",
        "print(train_mazi_names[:10])\n",
        "train_saga_names= os.listdir(train_sagarika_dir)\n",
        "print(train_saga_names[:10])\n",
        "train_unzi_names= os.listdir(train_unzela_dir)\n",
        "print(train_unzi_names[:10])\n",
        "train_swat_names= os.listdir(train_swati_dir)\n",
        "print(train_swat_names[:10])\n",
        "train_shrad_names= os.listdir(train_shraddha_dir)\n",
        "print(train_shrad_names[:10])\n",
        "train_rahu_names= os.listdir(train_rahul_dir)\n",
        "print(train_rahu_names[:10])\n",
        "train_abhi_names= os.listdir(train_abhishek_dir)\n",
        "print(train_abhi_names[:10])\n",
        "train_divy_names= os.listdir(train_divya_dir)\n",
        "print(train_divy_names[:10])\n",
        "train_shubhs_names= os.listdir(train_shubhankar_dir)\n",
        "print(train_shubhs_names[:10])\n",
        "train_beno_names= os.listdir(train_benoi_dir)\n",
        "print(train_beno_names[:10])\n",
        "train_saya_names= os.listdir(train_sayali_dir)\n",
        "print(train_saya_names[:10])\n"
      ],
      "execution_count": null,
      "outputs": [
        {
          "output_type": "stream",
          "text": [
            "['renesa_12.jpg', 'renesa_1.jpg', 'renesa_6.jpg', 'renesa_19.jpg', 'renesa_18.jpg', 'renesa_3.jpg', 'renesa_16.jpg', 'renesa_10.jpg', 'renesa_11.jpg', 'renesa_20.jpg']\n",
            "['purvika (13).jpg', 'purvika (16).jpg', 'purvika (5).jpg', 'purvika (10).jpg', 'purvika (9).jpg', 'purvika (8).jpg', 'purvika (1).png', 'purvika (14).jpg', 'purvika (1).jpg', 'purvika (3).jpg']\n",
            "['dere (15).jpg', 'dere (16).jpg', 'dere (19).jpg', 'dere (20).jpg', 'dere (11).jpg', 'dere (8).jpg', 'dere (2).jpg', 'dere (9).jpg', 'dere (12).jpg', 'dere (10).jpg']\n",
            "['IMG_20200214_124337.jpg', 'IMG_20200820_193845_383.jpg', 'IMG-20190815-WA0002.jpg', 'IMG_20201016_201009.jpg', 'IMG_20201018_171906.jpg', 'IMG-20200214-WA0011.jpg', 'IMG-20191123-WA0005.jpg', 'IMG_20201020_231111_687.jpg', 'IMG-20200214-WA0003.jpg', 'IMG-20191007-WA0019.jpg']\n",
            "['sagarika_7.jpg', 'sagarika_16.jpg', 'sagarika_12.jpg', 'sagarika_20.jpeg', 'sagarika_6.jpg', 'sagarika_13.jpg', 'sagarika_2.jpg', 'sagarika_15.jpg', 'sagarika_8.jpg', 'sagarika_1.jpg']\n",
            "['unzela (8).jpg', 'unzela (7).jpg', 'unzela (5).jpg', 'unzela (4).jpeg', 'unzela (3).jpg', 'unzela (14).jpg', 'unzela (6).jpg', 'unzela (10).jpg', 'unzela (9).jpg', 'unzela (11).jpg']\n",
            "['swati_raj12.jpg', 'swati_raj5.jpg', 'swati_raj4.jpg', 'swati_raj14.jpg', 'swati_raj16.jpg', 'swati_raj9.jpg', 'swati_raj15.jpg', 'swati_raj11.jpg', 'swati_raj20.jpg', 'swati_raj6.jpg']\n",
            "['shraddha 1.jpg', 'shraddha 15.jpg', 'shraddha 5.jpg', 'shraddha 11.jpg', 'shraddha 14.jpg', 'shraddha 12.jpg', 'shraddha 13.jpg', 'shraddha 8.jpg', 'shraddha 7.jpg', 'shraddha 16.jpg']\n",
            "['rahul_15.jpeg', 'rahul_12.jpeg', 'rahul_5.jpeg', 'rahul_6.jpeg', 'rahul_11.jpeg', 'rahul_14.jpeg', 'rahul_4.jpeg', 'rahul_16.jpeg', 'rahul_3.jpeg', 'rahul_9.jpeg']\n",
            "['abhishek_saxena10.jpg', 'abhishek_saxena14.jpg', 'abhishek_saxena20.jpg', 'abhishek_saxena4.jpg', 'abhishek_saxena12.jpg', 'abhishek_saxena8.jpg', 'abhishek_saxena16.jpg', 'abhishek_saxena2.jpg', 'abhishek_saxena5.jpg', 'abhishek_saxena7.jpg']\n",
            "['divya_17.jpg', 'divya_2.jpeg', 'divya_16.jpg', 'divya_3.jpeg', 'divya_13.jpeg', 'divya_15.JPG', 'divya_5.jpeg', 'divya_18.jpg', 'divya_11.jpg', 'divya_19.JPG']\n",
            "['shubhankar_8.jpg', 'shubhankar_4.jpg', 'shubhankar_14.jpg', 'shubhankar_2.jpg', 'shubhankar_6.jpg', 'shubhankar_1.jpg', 'shubhankar_13.jpg', 'shubhankar_18.jpg', 'shubhankar_19.jpg', 'shubhankar_15.jpg']\n",
            "['benoi_alex19.jpeg', 'benoi_alex17.jpeg', 'benoi_alex1.jpg', 'benoi_alex13.jpg', 'benoi_alex15.jpg', 'benoi_alex14.jpg', 'benoi_alex3.jpg', 'benoi_alex7.jpg', 'benoi_alex5.jpg', 'benoi_alex9.jpg']\n",
            "['sayali (11).jpg', 'sayali (14).jpg', 'sayali (13).jpg', 'sayali (18).jpg', 'sayali (5).jpg', 'sayali (17).jpg', 'sayali (15).jpg', 'sayali (4).jpg', 'sayali (7).jpg', 'sayali (1).jpg']\n"
          ],
          "name": "stdout"
        }
      ]
    },
    {
      "cell_type": "code",
      "metadata": {
        "id": "4fvG48BztiET",
        "colab": {
          "base_uri": "https://localhost:8080/"
        },
        "outputId": "5ca92ed4-c1c9-47d6-efc2-c79aed3fa84e"
      },
      "source": [
        "print('total Renesa images:',len(train_ren_names))\n",
        "print('total Purvika images:',len(train_puri_names))\n",
        "print('total Shivani images:',len(train_shivu_names))\n",
        "print('total Maziya images:',len(train_mazi_names))\n",
        "print('total Sagarika images:',len(train_saga_names))\n",
        "print('total Unzela images:',len(train_unzi_names))\n",
        "print('total Swati images:',len(train_swat_names))\n",
        "print('total Shraddha images:',len(train_shrad_names))\n",
        "print('total Rahul images:',len(train_rahu_names))\n",
        "print('total Abhishek images:',len(train_abhi_names))\n",
        "print('total Divya images:',len(train_divy_names))\n",
        "print('total Shubhankar images:',len(train_shubhs_names))\n",
        "print('total Benoi images:',len(train_beno_names))\n",
        "print('total Sayali images:',len(train_saya_names))"
      ],
      "execution_count": null,
      "outputs": [
        {
          "output_type": "stream",
          "text": [
            "total Renesa images: 20\n",
            "total Purvika images: 20\n",
            "total Shivani images: 20\n",
            "total Maziya images: 20\n",
            "total Sagarika images: 20\n",
            "total Unzela images: 20\n",
            "total Swati images: 20\n",
            "total Shraddha images: 20\n",
            "total Rahul images: 20\n",
            "total Abhishek images: 20\n",
            "total Divya images: 20\n",
            "total Shubhankar images: 20\n",
            "total Benoi images: 20\n",
            "total Sayali images: 20\n"
          ],
          "name": "stdout"
        }
      ]
    },
    {
      "cell_type": "code",
      "metadata": {
        "id": "DZRbajRvrgGa",
        "colab": {
          "base_uri": "https://localhost:8080/"
        },
        "outputId": "1c90f83f-7485-479b-c5f9-523ff0598001"
      },
      "source": [
        "train_datagen = ImageDataGenerator(\n",
        "      rescale=1./255,\n",
        "      rotation_range=40,\n",
        "      width_shift_range=0.2,\n",
        "      height_shift_range=0.2,\n",
        "      shear_range=0.2,\n",
        "      zoom_range=0.2,\n",
        "      horizontal_flip=True,\n",
        "      fill_mode='nearest')\n",
        "validation_datagen = ImageDataGenerator(rescale=1./255)\n",
        "train_generator = train_datagen.flow_from_directory(\n",
        "        train_dir,  \n",
        "        target_size=(100, 100), \n",
        "        batch_size=10,\n",
        "        \n",
        "        class_mode='categorical')\n",
        "\n",
        "validation_generator = validation_datagen.flow_from_directory(\n",
        "        validation_dir,\n",
        "        target_size=(100, 100),\n",
        "        batch_size=10,\n",
        "        class_mode='categorical')\n"
      ],
      "execution_count": null,
      "outputs": [
        {
          "output_type": "stream",
          "text": [
            "Found 280 images belonging to 14 classes.\n",
            "Found 70 images belonging to 14 classes.\n"
          ],
          "name": "stdout"
        }
      ]
    },
    {
      "cell_type": "code",
      "metadata": {
        "id": "XyLZg1x0z9mU",
        "colab": {
          "base_uri": "https://localhost:8080/"
        },
        "outputId": "17568ebc-7f03-4caf-be87-4e2f108d3c48"
      },
      "source": [
        "history = model.fit(\n",
        "      train_generator,\n",
        "      steps_per_epoch=8,  \n",
        "      epochs=100,\n",
        "      validation_data=validation_generator,\n",
        "      validation_steps=5, \n",
        "      verbose=2)"
      ],
      "execution_count": null,
      "outputs": [
        {
          "output_type": "stream",
          "text": [
            "Epoch 1/100\n",
            "8/8 - 10s - loss: 3.7442 - accuracy: 0.1375 - val_loss: 3.3229 - val_accuracy: 0.1000\n",
            "Epoch 2/100\n",
            "8/8 - 10s - loss: 3.5778 - accuracy: 0.1000 - val_loss: 2.8316 - val_accuracy: 0.2000\n",
            "Epoch 3/100\n",
            "8/8 - 10s - loss: 3.1663 - accuracy: 0.1375 - val_loss: 2.4399 - val_accuracy: 0.2000\n",
            "Epoch 4/100\n",
            "8/8 - 9s - loss: 3.0783 - accuracy: 0.1375 - val_loss: 2.3630 - val_accuracy: 0.2000\n",
            "Epoch 5/100\n",
            "8/8 - 9s - loss: 2.3176 - accuracy: 0.3000 - val_loss: 2.2037 - val_accuracy: 0.3400\n",
            "Epoch 6/100\n",
            "8/8 - 9s - loss: 2.2196 - accuracy: 0.3000 - val_loss: 2.1973 - val_accuracy: 0.3200\n",
            "Epoch 7/100\n",
            "8/8 - 9s - loss: 2.3151 - accuracy: 0.2250 - val_loss: 2.3275 - val_accuracy: 0.2200\n",
            "Epoch 8/100\n",
            "8/8 - 9s - loss: 2.2759 - accuracy: 0.3375 - val_loss: 2.3021 - val_accuracy: 0.2600\n",
            "Epoch 9/100\n",
            "8/8 - 9s - loss: 2.0748 - accuracy: 0.3500 - val_loss: 2.1314 - val_accuracy: 0.3400\n",
            "Epoch 10/100\n",
            "8/8 - 8s - loss: 2.2843 - accuracy: 0.3000 - val_loss: 2.1342 - val_accuracy: 0.3200\n",
            "Epoch 11/100\n",
            "8/8 - 10s - loss: 2.2773 - accuracy: 0.2500 - val_loss: 2.1540 - val_accuracy: 0.3600\n",
            "Epoch 12/100\n",
            "8/8 - 8s - loss: 2.0662 - accuracy: 0.3750 - val_loss: 2.0612 - val_accuracy: 0.3400\n",
            "Epoch 13/100\n",
            "8/8 - 9s - loss: 1.9366 - accuracy: 0.3875 - val_loss: 2.2092 - val_accuracy: 0.2600\n",
            "Epoch 14/100\n",
            "8/8 - 8s - loss: 2.1219 - accuracy: 0.3500 - val_loss: 2.0221 - val_accuracy: 0.3800\n",
            "Epoch 15/100\n",
            "8/8 - 11s - loss: 2.0598 - accuracy: 0.3125 - val_loss: 2.1018 - val_accuracy: 0.2800\n",
            "Epoch 16/100\n",
            "8/8 - 9s - loss: 1.9756 - accuracy: 0.4125 - val_loss: 2.0854 - val_accuracy: 0.3400\n",
            "Epoch 17/100\n",
            "8/8 - 10s - loss: 2.0058 - accuracy: 0.3750 - val_loss: 2.0932 - val_accuracy: 0.3400\n",
            "Epoch 18/100\n",
            "8/8 - 9s - loss: 1.8504 - accuracy: 0.3750 - val_loss: 1.9711 - val_accuracy: 0.3800\n",
            "Epoch 19/100\n",
            "8/8 - 9s - loss: 1.9119 - accuracy: 0.3875 - val_loss: 2.0440 - val_accuracy: 0.3200\n",
            "Epoch 20/100\n",
            "8/8 - 8s - loss: 2.0445 - accuracy: 0.3750 - val_loss: 1.9724 - val_accuracy: 0.3800\n",
            "Epoch 21/100\n",
            "8/8 - 10s - loss: 1.9125 - accuracy: 0.3875 - val_loss: 2.1477 - val_accuracy: 0.2000\n",
            "Epoch 22/100\n",
            "8/8 - 10s - loss: 2.0907 - accuracy: 0.3375 - val_loss: 2.0558 - val_accuracy: 0.3600\n",
            "Epoch 23/100\n",
            "8/8 - 10s - loss: 1.9193 - accuracy: 0.3750 - val_loss: 1.9006 - val_accuracy: 0.4200\n",
            "Epoch 24/100\n",
            "8/8 - 9s - loss: 1.8951 - accuracy: 0.3875 - val_loss: 1.9530 - val_accuracy: 0.3400\n",
            "Epoch 25/100\n",
            "8/8 - 10s - loss: 1.6471 - accuracy: 0.5000 - val_loss: 2.0778 - val_accuracy: 0.3000\n",
            "Epoch 26/100\n",
            "8/8 - 8s - loss: 1.6475 - accuracy: 0.4625 - val_loss: 1.9858 - val_accuracy: 0.3400\n",
            "Epoch 27/100\n",
            "8/8 - 10s - loss: 1.7624 - accuracy: 0.4375 - val_loss: 2.1165 - val_accuracy: 0.2800\n",
            "Epoch 28/100\n",
            "8/8 - 9s - loss: 1.8322 - accuracy: 0.4250 - val_loss: 2.0010 - val_accuracy: 0.2600\n",
            "Epoch 29/100\n",
            "8/8 - 10s - loss: 1.9157 - accuracy: 0.3750 - val_loss: 1.9971 - val_accuracy: 0.3200\n",
            "Epoch 30/100\n",
            "8/8 - 10s - loss: 1.7706 - accuracy: 0.4125 - val_loss: 2.0176 - val_accuracy: 0.3000\n",
            "Epoch 31/100\n",
            "8/8 - 9s - loss: 1.6414 - accuracy: 0.5250 - val_loss: 2.0790 - val_accuracy: 0.2800\n",
            "Epoch 32/100\n",
            "8/8 - 8s - loss: 1.8324 - accuracy: 0.4125 - val_loss: 1.9441 - val_accuracy: 0.4000\n",
            "Epoch 33/100\n",
            "8/8 - 10s - loss: 1.6573 - accuracy: 0.4250 - val_loss: 1.8350 - val_accuracy: 0.3800\n",
            "Epoch 34/100\n",
            "8/8 - 9s - loss: 1.7954 - accuracy: 0.4000 - val_loss: 1.9472 - val_accuracy: 0.3600\n",
            "Epoch 35/100\n",
            "8/8 - 9s - loss: 1.6731 - accuracy: 0.4125 - val_loss: 1.9565 - val_accuracy: 0.3200\n",
            "Epoch 36/100\n",
            "8/8 - 9s - loss: 1.5357 - accuracy: 0.4875 - val_loss: 2.1463 - val_accuracy: 0.3200\n",
            "Epoch 37/100\n",
            "8/8 - 9s - loss: 1.5226 - accuracy: 0.5375 - val_loss: 1.7655 - val_accuracy: 0.5000\n",
            "Epoch 38/100\n",
            "8/8 - 9s - loss: 1.8145 - accuracy: 0.4250 - val_loss: 1.7275 - val_accuracy: 0.4800\n",
            "Epoch 39/100\n",
            "8/8 - 9s - loss: 1.6714 - accuracy: 0.4750 - val_loss: 1.7940 - val_accuracy: 0.3800\n",
            "Epoch 40/100\n",
            "8/8 - 8s - loss: 1.5653 - accuracy: 0.5375 - val_loss: 1.8557 - val_accuracy: 0.3800\n",
            "Epoch 41/100\n",
            "8/8 - 10s - loss: 1.7047 - accuracy: 0.4250 - val_loss: 1.8216 - val_accuracy: 0.3400\n",
            "Epoch 42/100\n",
            "8/8 - 10s - loss: 1.4424 - accuracy: 0.5500 - val_loss: 1.8831 - val_accuracy: 0.3200\n",
            "Epoch 43/100\n",
            "8/8 - 8s - loss: 1.6021 - accuracy: 0.4125 - val_loss: 2.0519 - val_accuracy: 0.3000\n",
            "Epoch 44/100\n",
            "8/8 - 9s - loss: 1.4386 - accuracy: 0.5500 - val_loss: 1.8047 - val_accuracy: 0.3800\n",
            "Epoch 45/100\n",
            "8/8 - 10s - loss: 1.4298 - accuracy: 0.5500 - val_loss: 1.6818 - val_accuracy: 0.4200\n",
            "Epoch 46/100\n",
            "8/8 - 10s - loss: 1.6033 - accuracy: 0.4875 - val_loss: 1.9246 - val_accuracy: 0.3200\n",
            "Epoch 47/100\n",
            "8/8 - 9s - loss: 1.4327 - accuracy: 0.5875 - val_loss: 1.9542 - val_accuracy: 0.2800\n",
            "Epoch 48/100\n",
            "8/8 - 9s - loss: 1.5313 - accuracy: 0.4750 - val_loss: 1.8408 - val_accuracy: 0.3800\n",
            "Epoch 49/100\n",
            "8/8 - 10s - loss: 1.4965 - accuracy: 0.5000 - val_loss: 1.9715 - val_accuracy: 0.3600\n",
            "Epoch 50/100\n",
            "8/8 - 8s - loss: 1.5418 - accuracy: 0.5250 - val_loss: 1.8688 - val_accuracy: 0.4400\n",
            "Epoch 51/100\n",
            "8/8 - 9s - loss: 1.4245 - accuracy: 0.5375 - val_loss: 1.8286 - val_accuracy: 0.3600\n",
            "Epoch 52/100\n",
            "8/8 - 10s - loss: 1.3063 - accuracy: 0.5875 - val_loss: 1.7857 - val_accuracy: 0.3400\n",
            "Epoch 53/100\n",
            "8/8 - 10s - loss: 1.4252 - accuracy: 0.5875 - val_loss: 1.7769 - val_accuracy: 0.4600\n",
            "Epoch 54/100\n",
            "8/8 - 10s - loss: 1.4018 - accuracy: 0.5375 - val_loss: 1.8445 - val_accuracy: 0.4400\n",
            "Epoch 55/100\n",
            "8/8 - 10s - loss: 1.5243 - accuracy: 0.5500 - val_loss: 1.8382 - val_accuracy: 0.3400\n",
            "Epoch 56/100\n",
            "8/8 - 9s - loss: 1.4503 - accuracy: 0.5000 - val_loss: 1.8383 - val_accuracy: 0.3600\n",
            "Epoch 57/100\n",
            "8/8 - 8s - loss: 1.4598 - accuracy: 0.4250 - val_loss: 1.7984 - val_accuracy: 0.4200\n",
            "Epoch 58/100\n",
            "8/8 - 10s - loss: 1.3865 - accuracy: 0.5500 - val_loss: 1.8420 - val_accuracy: 0.4200\n",
            "Epoch 59/100\n",
            "8/8 - 9s - loss: 1.3817 - accuracy: 0.5250 - val_loss: 1.7586 - val_accuracy: 0.3800\n",
            "Epoch 60/100\n",
            "8/8 - 9s - loss: 1.3410 - accuracy: 0.5625 - val_loss: 1.8867 - val_accuracy: 0.4000\n",
            "Epoch 61/100\n",
            "8/8 - 10s - loss: 1.3513 - accuracy: 0.5875 - val_loss: 1.9724 - val_accuracy: 0.3600\n",
            "Epoch 62/100\n",
            "8/8 - 10s - loss: 1.4986 - accuracy: 0.4750 - val_loss: 1.7966 - val_accuracy: 0.4200\n",
            "Epoch 63/100\n",
            "8/8 - 9s - loss: 1.2388 - accuracy: 0.5875 - val_loss: 1.8321 - val_accuracy: 0.3200\n",
            "Epoch 64/100\n",
            "8/8 - 9s - loss: 1.4047 - accuracy: 0.5125 - val_loss: 1.7493 - val_accuracy: 0.4000\n",
            "Epoch 65/100\n",
            "8/8 - 9s - loss: 1.3705 - accuracy: 0.6125 - val_loss: 1.8228 - val_accuracy: 0.4000\n",
            "Epoch 66/100\n",
            "8/8 - 10s - loss: 1.4023 - accuracy: 0.5375 - val_loss: 1.8010 - val_accuracy: 0.4400\n",
            "Epoch 67/100\n",
            "8/8 - 9s - loss: 1.1479 - accuracy: 0.6250 - val_loss: 1.7391 - val_accuracy: 0.5000\n",
            "Epoch 68/100\n",
            "8/8 - 9s - loss: 1.3453 - accuracy: 0.5750 - val_loss: 1.8943 - val_accuracy: 0.4000\n",
            "Epoch 69/100\n",
            "8/8 - 8s - loss: 1.0694 - accuracy: 0.6250 - val_loss: 1.8688 - val_accuracy: 0.4000\n",
            "Epoch 70/100\n",
            "8/8 - 10s - loss: 1.1709 - accuracy: 0.6125 - val_loss: 1.7826 - val_accuracy: 0.3600\n",
            "Epoch 71/100\n",
            "8/8 - 11s - loss: 0.9622 - accuracy: 0.6625 - val_loss: 1.7531 - val_accuracy: 0.4400\n",
            "Epoch 72/100\n",
            "8/8 - 11s - loss: 1.3122 - accuracy: 0.5250 - val_loss: 1.9726 - val_accuracy: 0.3800\n",
            "Epoch 73/100\n",
            "8/8 - 11s - loss: 1.3734 - accuracy: 0.5875 - val_loss: 1.7698 - val_accuracy: 0.4200\n",
            "Epoch 74/100\n",
            "8/8 - 9s - loss: 1.2735 - accuracy: 0.6625 - val_loss: 1.8629 - val_accuracy: 0.4200\n",
            "Epoch 75/100\n",
            "8/8 - 8s - loss: 1.1003 - accuracy: 0.7000 - val_loss: 1.7931 - val_accuracy: 0.4200\n",
            "Epoch 76/100\n",
            "8/8 - 9s - loss: 1.4027 - accuracy: 0.5875 - val_loss: 1.9965 - val_accuracy: 0.3000\n",
            "Epoch 77/100\n",
            "8/8 - 10s - loss: 1.1055 - accuracy: 0.6000 - val_loss: 2.1264 - val_accuracy: 0.2200\n",
            "Epoch 78/100\n",
            "8/8 - 10s - loss: 1.5229 - accuracy: 0.4875 - val_loss: 1.8548 - val_accuracy: 0.4600\n",
            "Epoch 79/100\n",
            "8/8 - 10s - loss: 1.1769 - accuracy: 0.6125 - val_loss: 1.7843 - val_accuracy: 0.4000\n",
            "Epoch 80/100\n",
            "8/8 - 9s - loss: 1.4076 - accuracy: 0.5875 - val_loss: 1.8569 - val_accuracy: 0.4600\n",
            "Epoch 81/100\n",
            "8/8 - 10s - loss: 1.3130 - accuracy: 0.5625 - val_loss: 1.7704 - val_accuracy: 0.5000\n",
            "Epoch 82/100\n",
            "8/8 - 10s - loss: 1.2675 - accuracy: 0.5875 - val_loss: 1.7682 - val_accuracy: 0.4200\n",
            "Epoch 83/100\n",
            "8/8 - 9s - loss: 1.3951 - accuracy: 0.5500 - val_loss: 1.8737 - val_accuracy: 0.3800\n",
            "Epoch 84/100\n",
            "8/8 - 9s - loss: 1.3271 - accuracy: 0.6250 - val_loss: 1.8442 - val_accuracy: 0.4600\n",
            "Epoch 85/100\n",
            "8/8 - 10s - loss: 1.2747 - accuracy: 0.6125 - val_loss: 1.8298 - val_accuracy: 0.4000\n",
            "Epoch 86/100\n",
            "8/8 - 8s - loss: 1.1604 - accuracy: 0.6250 - val_loss: 1.7123 - val_accuracy: 0.4000\n",
            "Epoch 87/100\n",
            "8/8 - 8s - loss: 1.1841 - accuracy: 0.4875 - val_loss: 1.8174 - val_accuracy: 0.3800\n",
            "Epoch 88/100\n",
            "8/8 - 8s - loss: 1.2222 - accuracy: 0.6375 - val_loss: 1.7967 - val_accuracy: 0.4000\n",
            "Epoch 89/100\n",
            "8/8 - 10s - loss: 1.1708 - accuracy: 0.6250 - val_loss: 1.8876 - val_accuracy: 0.4200\n",
            "Epoch 90/100\n",
            "8/8 - 10s - loss: 1.3937 - accuracy: 0.5375 - val_loss: 1.6675 - val_accuracy: 0.4400\n",
            "Epoch 91/100\n",
            "8/8 - 9s - loss: 1.1669 - accuracy: 0.5375 - val_loss: 1.9089 - val_accuracy: 0.4400\n",
            "Epoch 92/100\n",
            "8/8 - 9s - loss: 1.2196 - accuracy: 0.6125 - val_loss: 1.9512 - val_accuracy: 0.4000\n",
            "Epoch 93/100\n",
            "8/8 - 9s - loss: 1.1593 - accuracy: 0.5750 - val_loss: 1.9495 - val_accuracy: 0.3600\n",
            "Epoch 94/100\n",
            "8/8 - 10s - loss: 1.0403 - accuracy: 0.7125 - val_loss: 1.7045 - val_accuracy: 0.4400\n",
            "Epoch 95/100\n",
            "8/8 - 10s - loss: 1.0421 - accuracy: 0.7125 - val_loss: 1.7827 - val_accuracy: 0.4200\n",
            "Epoch 96/100\n",
            "8/8 - 10s - loss: 1.1941 - accuracy: 0.5500 - val_loss: 1.7273 - val_accuracy: 0.4000\n",
            "Epoch 97/100\n",
            "8/8 - 10s - loss: 1.2767 - accuracy: 0.5875 - val_loss: 1.9112 - val_accuracy: 0.3400\n",
            "Epoch 98/100\n",
            "8/8 - 9s - loss: 0.9863 - accuracy: 0.6875 - val_loss: 1.9167 - val_accuracy: 0.4000\n",
            "Epoch 99/100\n",
            "8/8 - 10s - loss: 1.2132 - accuracy: 0.6250 - val_loss: 1.7353 - val_accuracy: 0.4400\n",
            "Epoch 100/100\n",
            "8/8 - 10s - loss: 1.0015 - accuracy: 0.6750 - val_loss: 1.7742 - val_accuracy: 0.4400\n"
          ],
          "name": "stdout"
        }
      ]
    },
    {
      "cell_type": "code",
      "metadata": {
        "id": "_z-SS1_1FDeP",
        "colab": {
          "base_uri": "https://localhost:8080/",
          "height": 312
        },
        "outputId": "385b68da-3fbe-4197-b4ef-38bd4a1b5b7c"
      },
      "source": [
        "import matplotlib.pyplot as plt\n",
        "plt.plot(history.history['accuracy'])\n",
        "plt.plot(history.history['val_accuracy'])\n",
        "plt.title('model accuracy')\n",
        "plt.xlabel('epochs')\n",
        "plt.ylabel('accuracy')\n",
        "plt.legend()\n",
        "plt.show()"
      ],
      "execution_count": null,
      "outputs": [
        {
          "output_type": "stream",
          "text": [
            "No handles with labels found to put in legend.\n"
          ],
          "name": "stderr"
        },
        {
          "output_type": "display_data",
          "data": {
            "image/png": "[encoded data removed]",
            "text/plain": [
              "<Figure size 432x288 with 1 Axes>"
            ]
          },
          "metadata": {
            "tags": [],
            "needs_background": "light"
          }
        }
      ]
    },
    {
      "cell_type": "code",
      "metadata": {
        "colab": {
          "base_uri": "https://localhost:8080/",
          "height": 295
        },
        "id": "ZUqGryLd-KTj",
        "outputId": "90a0170a-cca5-4e61-9113-5bac2a711aab"
      },
      "source": [
        "#import matplotlib.pyplot as plt\n",
        "plt.plot(history.history['loss'])\n",
        "plt.plot(history.history['val_loss'])\n",
        "plt.title('model loss')\n",
        "plt.xlabel('epochs')\n",
        "plt.ylabel('loss')\n",
        "plt.show()"
      ],
      "execution_count": null,
      "outputs": [
        {
          "output_type": "display_data",
          "data": {
            "image/png": "[encoded data removed]",
            "text/plain": [
              "<Figure size 432x288 with 1 Axes>"
            ]
          },
          "metadata": {
            "tags": [],
            "needs_background": "light"
          }
        }
      ]
    },
    {
      "cell_type": "code",
      "metadata": {
        "id": "cz48Tse6-hB2"
      },
      "source": [
        "model.save('face_recog.h5')"
      ],
      "execution_count": null,
      "outputs": []
    },
    {
      "cell_type": "code",
      "metadata": {
        "colab": {
          "base_uri": "https://localhost:8080/",
          "height": 1000
        },
        "id": "VCd9WjGM-ukh",
        "outputId": "b3dcf9c5-811c-4410-fe58-0a4367b40ddd"
      },
      "source": [
        "!pip install streamlit"
      ],
      "execution_count": null,
      "outputs": [
        {
          "output_type": "stream",
          "text": [
            "Collecting streamlit\n",
            "\u001b[?25l  Downloading https://files.pythonhosted.org/packages/f9/91/5b62c39a4e382e1c376405e73891c4426af576f507281bc2bb896ac1d028/streamlit-0.71.0-py2.py3-none-any.whl (7.4MB)\n",
            "\u001b[K     |████████████████████████████████| 7.4MB 9.0MB/s \n",
            "\u001b[?25hCollecting base58\n",
            "  Downloading https://files.pythonhosted.org/packages/3c/03/58572025c77b9e6027155b272a1b96298e711cd4f95c24967f7137ab0c4b/base58-2.0.1-py3-none-any.whl\n",
            "Requirement already satisfied: pyarrow in /usr/local/lib/python3.6/dist-packages (from streamlit) (0.14.1)\n",
            "Requirement already satisfied: protobuf!=3.11,>=3.6.0 in /usr/local/lib/python3.6/dist-packages (from streamlit) (3.12.4)\n",
            "Requirement already satisfied: tornado>=5.0 in /usr/local/lib/python3.6/dist-packages (from streamlit) (5.1.1)\n",
            "Collecting boto3\n",
            "\u001b[?25l  Downloading https://files.pythonhosted.org/packages/59/7f/4ade91fbb684c6f28a6e56028d9f9d2de4297761850d083579779f07c0de/boto3-1.16.25-py2.py3-none-any.whl (129kB)\n",
            "\u001b[K     |████████████████████████████████| 133kB 48.2MB/s \n",
            "\u001b[?25hRequirement already satisfied: requests in /usr/local/lib/python3.6/dist-packages (from streamlit) (2.23.0)\n",
            "Requirement already satisfied: pandas>=0.21.0 in /usr/local/lib/python3.6/dist-packages (from streamlit) (1.1.4)\n",
            "Requirement already satisfied: toml in /usr/local/lib/python3.6/dist-packages (from streamlit) (0.10.2)\n",
            "Requirement already satisfied: packaging in /usr/local/lib/python3.6/dist-packages (from streamlit) (20.4)\n",
            "Requirement already satisfied: astor in /usr/local/lib/python3.6/dist-packages (from streamlit) (0.8.1)\n",
            "Collecting blinker\n",
            "\u001b[?25l  Downloading https://files.pythonhosted.org/packages/1b/51/e2a9f3b757eb802f61dc1f2b09c8c99f6eb01cf06416c0671253536517b6/blinker-1.4.tar.gz (111kB)\n",
            "\u001b[K     |████████████████████████████████| 112kB 45.1MB/s \n",
            "\u001b[?25hCollecting gitpython\n",
            "\u001b[?25l  Downloading https://files.pythonhosted.org/packages/24/d1/a7f8fe3df258549b303415157328bfcc63e9b11d06a7ad7a3327f3d32606/GitPython-3.1.11-py3-none-any.whl (159kB)\n",
            "\u001b[K     |████████████████████████████████| 163kB 48.3MB/s \n",
            "\u001b[?25hRequirement already satisfied: pillow>=6.2.0 in /usr/local/lib/python3.6/dist-packages (from streamlit) (7.0.0)\n",
            "Collecting pydeck>=0.1.dev5\n",
            "\u001b[?25l  Downloading https://files.pythonhosted.org/packages/9e/9d/8fbf1f56cc5891e6c3295bf94fc176e9ab0a3ffdd090cc8b354ac2640f9a/pydeck-0.5.0-py2.py3-none-any.whl (4.5MB)\n",
            "\u001b[K     |████████████████████████████████| 4.5MB 52.4MB/s \n",
            "\u001b[?25hRequirement already satisfied: tzlocal in /usr/local/lib/python3.6/dist-packages (from streamlit) (1.5.1)\n",
            "Requirement already satisfied: cachetools>=4.0 in /usr/local/lib/python3.6/dist-packages (from streamlit) (4.1.1)\n",
            "Requirement already satisfied: numpy in /usr/local/lib/python3.6/dist-packages (from streamlit) (1.18.5)\n",
            "Collecting validators\n",
            "  Downloading https://files.pythonhosted.org/packages/41/4a/3360ff3cf2b4a1b9721ac1fbff5f84663f41047d9874b3aa1ac82e862c44/validators-0.18.1-py3-none-any.whl\n",
            "Collecting enum-compat\n",
            "  Downloading https://files.pythonhosted.org/packages/55/ae/467bc4509246283bb59746e21a1a2f5a8aecbef56b1fa6eaca78cd438c8b/enum_compat-0.0.3-py3-none-any.whl\n",
            "Collecting watchdog\n",
            "\u001b[?25l  Downloading https://files.pythonhosted.org/packages/6f/10/500580a0987363a0d9e1f3dd5cb1bba94a47e19266c6ce9dfb6cdd455758/watchdog-0.10.4.tar.gz (98kB)\n",
            "\u001b[K     |████████████████████████████████| 102kB 13.9MB/s \n",
            "\u001b[?25hRequirement already satisfied: altair>=3.2.0 in /usr/local/lib/python3.6/dist-packages (from streamlit) (4.1.0)\n",
            "Requirement already satisfied: python-dateutil in /usr/local/lib/python3.6/dist-packages (from streamlit) (2.8.1)\n",
            "Requirement already satisfied: click>=7.0 in /usr/local/lib/python3.6/dist-packages (from streamlit) (7.1.2)\n",
            "Collecting botocore>=1.13.44\n",
            "\u001b[?25l  Downloading https://files.pythonhosted.org/packages/ef/d5/c0c33ca15e31062220ac5964f3492409eaf90a5cf5399503cd8264f2f8e9/botocore-1.19.25-py2.py3-none-any.whl (6.9MB)\n",
            "\u001b[K     |████████████████████████████████| 6.9MB 50.4MB/s \n",
            "\u001b[?25hRequirement already satisfied: six>=1.0.0 in /usr/local/lib/python3.6/dist-packages (from pyarrow->streamlit) (1.15.0)\n",
            "Requirement already satisfied: setuptools in /usr/local/lib/python3.6/dist-packages (from protobuf!=3.11,>=3.6.0->streamlit) (50.3.2)\n",
            "Collecting s3transfer<0.4.0,>=0.3.0\n",
            "\u001b[?25l  Downloading https://files.pythonhosted.org/packages/69/79/e6afb3d8b0b4e96cefbdc690f741d7dd24547ff1f94240c997a26fa908d3/s3transfer-0.3.3-py2.py3-none-any.whl (69kB)\n",
            "\u001b[K     |████████████████████████████████| 71kB 9.9MB/s \n",
            "\u001b[?25hCollecting jmespath<1.0.0,>=0.7.1\n",
            "  Downloading https://files.pythonhosted.org/packages/07/cb/5f001272b6faeb23c1c9e0acc04d48eaaf5c862c17709d20e3469c6e0139/jmespath-0.10.0-py2.py3-none-any.whl\n",
            "Requirement already satisfied: certifi>=2017.4.17 in /usr/local/lib/python3.6/dist-packages (from requests->streamlit) (2020.11.8)\n",
            "Requirement already satisfied: chardet<4,>=3.0.2 in /usr/local/lib/python3.6/dist-packages (from requests->streamlit) (3.0.4)\n",
            "Requirement already satisfied: idna<3,>=2.5 in /usr/local/lib/python3.6/dist-packages (from requests->streamlit) (2.10)\n",
            "Requirement already satisfied: urllib3!=1.25.0,!=1.25.1,<1.26,>=1.21.1 in /usr/local/lib/python3.6/dist-packages (from requests->streamlit) (1.24.3)\n",
            "Requirement already satisfied: pytz>=2017.2 in /usr/local/lib/python3.6/dist-packages (from pandas>=0.21.0->streamlit) (2018.9)\n",
            "Requirement already satisfied: pyparsing>=2.0.2 in /usr/local/lib/python3.6/dist-packages (from packaging->streamlit) (2.4.7)\n",
            "Collecting gitdb<5,>=4.0.1\n",
            "\u001b[?25l  Downloading https://files.pythonhosted.org/packages/48/11/d1800bca0a3bae820b84b7d813ad1eff15a48a64caea9c823fc8c1b119e8/gitdb-4.0.5-py3-none-any.whl (63kB)\n",
            "\u001b[K     |████████████████████████████████| 71kB 11.9MB/s \n",
            "\u001b[?25hCollecting ipykernel>=5.1.2; python_version >= \"3.4\"\n",
            "\u001b[?25l  Downloading https://files.pythonhosted.org/packages/52/19/c2812690d8b340987eecd2cbc18549b1d130b94c5d97fcbe49f5f8710edf/ipykernel-5.3.4-py3-none-any.whl (120kB)\n",
            "\u001b[K     |████████████████████████████████| 122kB 57.1MB/s \n",
            "\u001b[?25hRequirement already satisfied: ipywidgets>=7.0.0 in /usr/local/lib/python3.6/dist-packages (from pydeck>=0.1.dev5->streamlit) (7.5.1)\n",
            "Requirement already satisfied: jinja2>=2.10.1 in /usr/local/lib/python3.6/dist-packages (from pydeck>=0.1.dev5->streamlit) (2.11.2)\n",
            "Requirement already satisfied: traitlets>=4.3.2 in /usr/local/lib/python3.6/dist-packages (from pydeck>=0.1.dev5->streamlit) (4.3.3)\n",
            "Requirement already satisfied: decorator>=3.4.0 in /usr/local/lib/python3.6/dist-packages (from validators->streamlit) (4.4.2)\n",
            "Collecting pathtools>=0.1.1\n",
            "  Downloading https://files.pythonhosted.org/packages/e7/7f/470d6fcdf23f9f3518f6b0b76be9df16dcc8630ad409947f8be2eb0ed13a/pathtools-0.1.2.tar.gz\n",
            "Requirement already satisfied: toolz in /usr/local/lib/python3.6/dist-packages (from altair>=3.2.0->streamlit) (0.11.1)\n",
            "Requirement already satisfied: entrypoints in /usr/local/lib/python3.6/dist-packages (from altair>=3.2.0->streamlit) (0.3)\n",
            "Requirement already satisfied: jsonschema in /usr/local/lib/python3.6/dist-packages (from altair>=3.2.0->streamlit) (2.6.0)\n",
            "Collecting smmap<4,>=3.0.1\n",
            "  Downloading https://files.pythonhosted.org/packages/b0/9a/4d409a6234eb940e6a78dfdfc66156e7522262f5f2fecca07dc55915952d/smmap-3.0.4-py2.py3-none-any.whl\n",
            "Requirement already satisfied: jupyter-client in /usr/local/lib/python3.6/dist-packages (from ipykernel>=5.1.2; python_version >= \"3.4\"->pydeck>=0.1.dev5->streamlit) (5.3.5)\n",
            "Requirement already satisfied: ipython>=5.0.0 in /usr/local/lib/python3.6/dist-packages (from ipykernel>=5.1.2; python_version >= \"3.4\"->pydeck>=0.1.dev5->streamlit) (5.5.0)\n",
            "Requirement already satisfied: widgetsnbextension~=3.5.0 in /usr/local/lib/python3.6/dist-packages (from ipywidgets>=7.0.0->pydeck>=0.1.dev5->streamlit) (3.5.1)\n",
            "Requirement already satisfied: nbformat>=4.2.0 in /usr/local/lib/python3.6/dist-packages (from ipywidgets>=7.0.0->pydeck>=0.1.dev5->streamlit) (5.0.8)\n",
            "Requirement already satisfied: MarkupSafe>=0.23 in /usr/local/lib/python3.6/dist-packages (from jinja2>=2.10.1->pydeck>=0.1.dev5->streamlit) (1.1.1)\n",
            "Requirement already satisfied: ipython-genutils in /usr/local/lib/python3.6/dist-packages (from traitlets>=4.3.2->pydeck>=0.1.dev5->streamlit) (0.2.0)\n",
            "Requirement already satisfied: jupyter-core>=4.6.0 in /usr/local/lib/python3.6/dist-packages (from jupyter-client->ipykernel>=5.1.2; python_version >= \"3.4\"->pydeck>=0.1.dev5->streamlit) (4.7.0)\n",
            "Requirement already satisfied: pyzmq>=13 in /usr/local/lib/python3.6/dist-packages (from jupyter-client->ipykernel>=5.1.2; python_version >= \"3.4\"->pydeck>=0.1.dev5->streamlit) (20.0.0)\n",
            "Requirement already satisfied: prompt-toolkit<2.0.0,>=1.0.4 in /usr/local/lib/python3.6/dist-packages (from ipython>=5.0.0->ipykernel>=5.1.2; python_version >= \"3.4\"->pydeck>=0.1.dev5->streamlit) (1.0.18)\n",
            "Requirement already satisfied: simplegeneric>0.8 in /usr/local/lib/python3.6/dist-packages (from ipython>=5.0.0->ipykernel>=5.1.2; python_version >= \"3.4\"->pydeck>=0.1.dev5->streamlit) (0.8.1)\n",
            "Requirement already satisfied: pexpect; sys_platform != \"win32\" in /usr/local/lib/python3.6/dist-packages (from ipython>=5.0.0->ipykernel>=5.1.2; python_version >= \"3.4\"->pydeck>=0.1.dev5->streamlit) (4.8.0)\n",
            "Requirement already satisfied: pickleshare in /usr/local/lib/python3.6/dist-packages (from ipython>=5.0.0->ipykernel>=5.1.2; python_version >= \"3.4\"->pydeck>=0.1.dev5->streamlit) (0.7.5)\n",
            "Requirement already satisfied: pygments in /usr/local/lib/python3.6/dist-packages (from ipython>=5.0.0->ipykernel>=5.1.2; python_version >= \"3.4\"->pydeck>=0.1.dev5->streamlit) (2.6.1)\n",
            "Requirement already satisfied: notebook>=4.4.1 in /usr/local/lib/python3.6/dist-packages (from widgetsnbextension~=3.5.0->ipywidgets>=7.0.0->pydeck>=0.1.dev5->streamlit) (5.3.1)\n",
            "Requirement already satisfied: wcwidth in /usr/local/lib/python3.6/dist-packages (from prompt-toolkit<2.0.0,>=1.0.4->ipython>=5.0.0->ipykernel>=5.1.2; python_version >= \"3.4\"->pydeck>=0.1.dev5->streamlit) (0.2.5)\n",
            "Requirement already satisfied: ptyprocess>=0.5 in /usr/local/lib/python3.6/dist-packages (from pexpect; sys_platform != \"win32\"->ipython>=5.0.0->ipykernel>=5.1.2; python_version >= \"3.4\"->pydeck>=0.1.dev5->streamlit) (0.6.0)\n",
            "Requirement already satisfied: Send2Trash in /usr/local/lib/python3.6/dist-packages (from notebook>=4.4.1->widgetsnbextension~=3.5.0->ipywidgets>=7.0.0->pydeck>=0.1.dev5->streamlit) (1.5.0)\n",
            "Requirement already satisfied: terminado>=0.8.1 in /usr/local/lib/python3.6/dist-packages (from notebook>=4.4.1->widgetsnbextension~=3.5.0->ipywidgets>=7.0.0->pydeck>=0.1.dev5->streamlit) (0.9.1)\n",
            "Requirement already satisfied: nbconvert in /usr/local/lib/python3.6/dist-packages (from notebook>=4.4.1->widgetsnbextension~=3.5.0->ipywidgets>=7.0.0->pydeck>=0.1.dev5->streamlit) (5.6.1)\n",
            "Requirement already satisfied: bleach in /usr/local/lib/python3.6/dist-packages (from nbconvert->notebook>=4.4.1->widgetsnbextension~=3.5.0->ipywidgets>=7.0.0->pydeck>=0.1.dev5->streamlit) (3.2.1)\n",
            "Requirement already satisfied: testpath in /usr/local/lib/python3.6/dist-packages (from nbconvert->notebook>=4.4.1->widgetsnbextension~=3.5.0->ipywidgets>=7.0.0->pydeck>=0.1.dev5->streamlit) (0.4.4)\n",
            "Requirement already satisfied: defusedxml in /usr/local/lib/python3.6/dist-packages (from nbconvert->notebook>=4.4.1->widgetsnbextension~=3.5.0->ipywidgets>=7.0.0->pydeck>=0.1.dev5->streamlit) (0.6.0)\n",
            "Requirement already satisfied: mistune<2,>=0.8.1 in /usr/local/lib/python3.6/dist-packages (from nbconvert->notebook>=4.4.1->widgetsnbextension~=3.5.0->ipywidgets>=7.0.0->pydeck>=0.1.dev5->streamlit) (0.8.4)\n",
            "Requirement already satisfied: pandocfilters>=1.4.1 in /usr/local/lib/python3.6/dist-packages (from nbconvert->notebook>=4.4.1->widgetsnbextension~=3.5.0->ipywidgets>=7.0.0->pydeck>=0.1.dev5->streamlit) (1.4.3)\n",
            "Requirement already satisfied: webencodings in /usr/local/lib/python3.6/dist-packages (from bleach->nbconvert->notebook>=4.4.1->widgetsnbextension~=3.5.0->ipywidgets>=7.0.0->pydeck>=0.1.dev5->streamlit) (0.5.1)\n",
            "Building wheels for collected packages: blinker, watchdog, pathtools\n",
            "  Building wheel for blinker (setup.py) ... \u001b[?25l\u001b[?25hdone\n",
            "  Created wheel for blinker: filename=blinker-1.4-cp36-none-any.whl size=13450 sha256=bd68c678dec797db59146ed5cacdb6e78bd523250ac0500a418e797ad375ec25\n",
            "  Stored in directory: /root/.cache/pip/wheels/92/a0/00/8690a57883956a301d91cf4ec999cc0b258b01e3f548f86e89\n",
            "  Building wheel for watchdog (setup.py) ... \u001b[?25l\u001b[?25hdone\n",
            "  Created wheel for watchdog: filename=watchdog-0.10.4-cp36-none-any.whl size=74841 sha256=1ff94a2e563919a724a6677645e508fd411a1a98ed65822cc0cd63579e330243\n",
            "  Stored in directory: /root/.cache/pip/wheels/9e/11/04/5160b8815b0cc7cf574bdc6d053e510169ec264c8791b4ec3a\n",
            "  Building wheel for pathtools (setup.py) ... \u001b[?25l\u001b[?25hdone\n",
            "  Created wheel for pathtools: filename=pathtools-0.1.2-cp36-none-any.whl size=8785 sha256=f53d8548e80c9d7d66c84dad0f6a9285a1bf703a1e2c9bfb1d89086dd7f65cf1\n",
            "  Stored in directory: /root/.cache/pip/wheels/0b/04/79/c3b0c3a0266a3cb4376da31e5bfe8bba0c489246968a68e843\n",
            "Successfully built blinker watchdog pathtools\n",
            "\u001b[31mERROR: google-colab 1.0.0 has requirement ipykernel~=4.10, but you'll have ipykernel 5.3.4 which is incompatible.\u001b[0m\n",
            "\u001b[31mERROR: botocore 1.19.25 has requirement urllib3<1.27,>=1.25.4; python_version != \"3.4\", but you'll have urllib3 1.24.3 which is incompatible.\u001b[0m\n",
            "Installing collected packages: base58, jmespath, botocore, s3transfer, boto3, blinker, smmap, gitdb, gitpython, ipykernel, pydeck, validators, enum-compat, pathtools, watchdog, streamlit\n",
            "  Found existing installation: ipykernel 4.10.1\n",
            "    Uninstalling ipykernel-4.10.1:\n",
            "      Successfully uninstalled ipykernel-4.10.1\n",
            "Successfully installed base58-2.0.1 blinker-1.4 boto3-1.16.25 botocore-1.19.25 enum-compat-0.0.3 gitdb-4.0.5 gitpython-3.1.11 ipykernel-5.3.4 jmespath-0.10.0 pathtools-0.1.2 pydeck-0.5.0 s3transfer-0.3.3 smmap-3.0.4 streamlit-0.71.0 validators-0.18.1 watchdog-0.10.4\n"
          ],
          "name": "stdout"
        },
        {
          "output_type": "display_data",
          "data": {
            "application/vnd.colab-display-data+json": {
              "pip_warning": {
                "packages": [
                  "ipykernel"
                ]
              }
            }
          },
          "metadata": {
            "tags": []
          }
        }
      ]
    },
    {
      "cell_type": "code",
      "metadata": {
        "colab": {
          "base_uri": "https://localhost:8080/"
        },
        "id": "TLNdcY7W-2Ln",
        "outputId": "c2901cfc-5b07-4d07-e979-c00d0e1d6fcb"
      },
      "source": [
        "pip install pyngrok"
      ],
      "execution_count": null,
      "outputs": [
        {
          "output_type": "stream",
          "text": [
            "Collecting pyngrok\n",
            "  Downloading https://files.pythonhosted.org/packages/ea/63/e086f165125e9bf2e71c0db2955911baaaa0af8947ab5c7b3771bdf4d4d5/pyngrok-5.0.0.tar.gz\n",
            "Requirement already satisfied: PyYAML in /usr/local/lib/python3.6/dist-packages (from pyngrok) (3.13)\n",
            "Building wheels for collected packages: pyngrok\n",
            "  Building wheel for pyngrok (setup.py) ... \u001b[?25l\u001b[?25hdone\n",
            "  Created wheel for pyngrok: filename=pyngrok-5.0.0-cp36-none-any.whl size=18780 sha256=7f2f92a8de95040037eb63cc483ca636c790e6c9007633ff8a4fbf141ee6f481\n",
            "  Stored in directory: /root/.cache/pip/wheels/95/df/23/af8dde08c3fcdc7b966adcacef48ab29aa3b0b1860df5d2b79\n",
            "Successfully built pyngrok\n",
            "Installing collected packages: pyngrok\n",
            "Successfully installed pyngrok-5.0.0\n"
          ],
          "name": "stdout"
        }
      ]
    },
    {
      "cell_type": "code",
      "metadata": {
        "colab": {
          "base_uri": "https://localhost:8080/"
        },
        "id": "ESqHrvgF_KfB",
        "outputId": "a9b4d92d-52b9-4b9f-b99c-85e35742b2ec"
      },
      "source": [
        "%%writefile face.py\n",
        "import streamlit as st\n",
        "import tensorflow as tf\n",
        "\n",
        "st.set_option('deprecation.showfileUploaderEncoding', False)\n",
        "@st.cache(allow_output_mutation= True)\n",
        "def load_model():\n",
        "  model= tf.keras.models.load_model('/content/face_recog.h5')\n",
        "  return model\n",
        "model= load_model()\n",
        "st.write(\"\"\" # Face Recognition \"\"\") \n",
        "file= st.file_uploader(\"Please upload an image\", type= ['jpg','png'])\n",
        "import cv2\n",
        "from PIL import Image,ImageOps\n",
        "import numpy as np\n",
        "def import_and_predict(image_data,model):\n",
        "  size= (100,100)\n",
        "  image= ImageOps.fit(image_data,size,Image.ANTIALIAS)\n",
        "  img= np.asarray(image)\n",
        "  img_reshape= img[np.newaxis,...]\n",
        "  prediction= model.predict(img_reshape)\n",
        "  return prediction\n",
        "if file is None:\n",
        "  st.text('Pls upload an img file')\n",
        "else:\n",
        "  image= Image.open(file)\n",
        "  st.image(image, use_column_width= True)\n",
        "  predictions= import_and_predict(image, model)\n",
        "  classes= ['Renesa Ray','Purvika Bajaj','Shivani Dere','Maziya Fatima','Sagarika Verma','Unzela Inamdar','Swati Raj','Shraddha','Rahul Barman','Abhishek Saxena','Divya Saxena','Sayali Badade','Shubhankar Pawar','Benoi Alex' ]\n",
        "  string= 'This image may be:'+classes[np.argmax(predictions)]\n",
        "  st.success(string)"
      ],
      "execution_count": null,
      "outputs": [
        {
          "output_type": "stream",
          "text": [
            "Writing face.py\n"
          ],
          "name": "stdout"
        }
      ]
    },
    {
      "cell_type": "code",
      "metadata": {
        "colab": {
          "base_uri": "https://localhost:8080/"
        },
        "id": "sArBNICjA82m",
        "outputId": "7912130b-9ad7-4d15-f013-b931c5325cae"
      },
      "source": [
        "!ngrok authtoken 1kdeUf6saGRrATRsQDA19jF29XQ_89yRnxceTYz2Xv8gyHCVP"
      ],
      "execution_count": null,
      "outputs": [
        {
          "output_type": "stream",
          "text": [
            "Authtoken saved to configuration file: /root/.ngrok2/ngrok.yml\n"
          ],
          "name": "stdout"
        }
      ]
    },
    {
      "cell_type": "code",
      "metadata": {
        "colab": {
          "base_uri": "https://localhost:8080/"
        },
        "id": "mjPyQdoEBFIq",
        "outputId": "d49f779a-62af-4e30-d653-97ee3da8c8a0"
      },
      "source": [
        "!nohup streamlit run face.py & "
      ],
      "execution_count": null,
      "outputs": [
        {
          "output_type": "stream",
          "text": [
            "nohup: appending output to 'nohup.out'\n"
          ],
          "name": "stdout"
        }
      ]
    },
    {
      "cell_type": "code",
      "metadata": {
        "colab": {
          "base_uri": "https://localhost:8080/"
        },
        "id": "cWsjIocLBLRW",
        "outputId": "7b4dc9f1-40eb-4966-c6ec-3d8fac65b3d1"
      },
      "source": [
        "from pyngrok import ngrok\n",
        "url= ngrok.connect(port= '80')\n",
        "url"
      ],
      "execution_count": null,
      "outputs": [
        {
          "output_type": "execute_result",
          "data": {
            "text/plain": [
              "<NgrokTunnel: \"http://7149f35fe9eb.ngrok.io\" -> \"http://localhost:80\">"
            ]
          },
          "metadata": {
            "tags": []
          },
          "execution_count": 23
        }
      ]
    },
    {
      "cell_type": "code",
      "metadata": {
        "colab": {
          "base_uri": "https://localhost:8080/"
        },
        "id": "g6UdOy9CBQpU",
        "outputId": "91082052-52d8-4a8c-cf9e-f38614d5fb7a"
      },
      "source": [
        "!streamlit run --server.port 80 face.py >/dev/null "
      ],
      "execution_count": null,
      "outputs": [
        {
          "output_type": "stream",
          "text": [
            "2020-11-30 03:01:20.767844: I tensorflow/stream_executor/platform/default/dso_loader.cc:48] Successfully opened dynamic library libcudart.so.10.1\n",
            "2020-11-30 03:01:21.883340: I tensorflow/stream_executor/platform/default/dso_loader.cc:48] Successfully opened dynamic library libcuda.so.1\n",
            "2020-11-30 03:01:21.888118: I tensorflow/stream_executor/cuda/cuda_gpu_executor.cc:982] successful NUMA node read from SysFS had negative value (-1), but there must be at least one NUMA node, so returning NUMA node zero\n",
            "2020-11-30 03:01:21.888714: I tensorflow/core/common_runtime/gpu/gpu_device.cc:1716] Found device 0 with properties: \n",
            "pciBusID: 0000:00:04.0 name: Tesla T4 computeCapability: 7.5\n",
            "coreClock: 1.59GHz coreCount: 40 deviceMemorySize: 14.73GiB deviceMemoryBandwidth: 298.08GiB/s\n",
            "2020-11-30 03:01:21.888766: I tensorflow/stream_executor/platform/default/dso_loader.cc:48] Successfully opened dynamic library libcudart.so.10.1\n",
            "2020-11-30 03:01:21.890437: I tensorflow/stream_executor/platform/default/dso_loader.cc:48] Successfully opened dynamic library libcublas.so.10\n",
            "2020-11-30 03:01:21.892004: I tensorflow/stream_executor/platform/default/dso_loader.cc:48] Successfully opened dynamic library libcufft.so.10\n",
            "2020-11-30 03:01:21.892330: I tensorflow/stream_executor/platform/default/dso_loader.cc:48] Successfully opened dynamic library libcurand.so.10\n",
            "2020-11-30 03:01:21.894003: I tensorflow/stream_executor/platform/default/dso_loader.cc:48] Successfully opened dynamic library libcusolver.so.10\n",
            "2020-11-30 03:01:21.895286: I tensorflow/stream_executor/platform/default/dso_loader.cc:48] Successfully opened dynamic library libcusparse.so.10\n",
            "2020-11-30 03:01:21.898654: I tensorflow/stream_executor/platform/default/dso_loader.cc:48] Successfully opened dynamic library libcudnn.so.7\n",
            "2020-11-30 03:01:21.898769: I tensorflow/stream_executor/cuda/cuda_gpu_executor.cc:982] successful NUMA node read from SysFS had negative value (-1), but there must be at least one NUMA node, so returning NUMA node zero\n",
            "2020-11-30 03:01:21.899333: I tensorflow/stream_executor/cuda/cuda_gpu_executor.cc:982] successful NUMA node read from SysFS had negative value (-1), but there must be at least one NUMA node, so returning NUMA node zero\n",
            "2020-11-30 03:01:21.899824: I tensorflow/core/common_runtime/gpu/gpu_device.cc:1858] Adding visible gpu devices: 0\n",
            "2020-11-30 03:01:21.905575: I tensorflow/core/platform/profile_utils/cpu_utils.cc:104] CPU Frequency: 2200000000 Hz\n",
            "2020-11-30 03:01:21.905752: I tensorflow/compiler/xla/service/service.cc:168] XLA service 0x30839c0 initialized for platform Host (this does not guarantee that XLA will be used). Devices:\n",
            "2020-11-30 03:01:21.905780: I tensorflow/compiler/xla/service/service.cc:176]   StreamExecutor device (0): Host, Default Version\n",
            "2020-11-30 03:01:22.000747: I tensorflow/stream_executor/cuda/cuda_gpu_executor.cc:982] successful NUMA node read from SysFS had negative value (-1), but there must be at least one NUMA node, so returning NUMA node zero\n",
            "2020-11-30 03:01:22.001499: I tensorflow/compiler/xla/service/service.cc:168] XLA service 0x3083b80 initialized for platform CUDA (this does not guarantee that XLA will be used). Devices:\n",
            "2020-11-30 03:01:22.001539: I tensorflow/compiler/xla/service/service.cc:176]   StreamExecutor device (0): Tesla T4, Compute Capability 7.5\n",
            "2020-11-30 03:01:22.001733: I tensorflow/stream_executor/cuda/cuda_gpu_executor.cc:982] successful NUMA node read from SysFS had negative value (-1), but there must be at least one NUMA node, so returning NUMA node zero\n",
            "2020-11-30 03:01:22.002510: I tensorflow/core/common_runtime/gpu/gpu_device.cc:1716] Found device 0 with properties: \n",
            "pciBusID: 0000:00:04.0 name: Tesla T4 computeCapability: 7.5\n",
            "coreClock: 1.59GHz coreCount: 40 deviceMemorySize: 14.73GiB deviceMemoryBandwidth: 298.08GiB/s\n",
            "2020-11-30 03:01:22.002587: I tensorflow/stream_executor/platform/default/dso_loader.cc:48] Successfully opened dynamic library libcudart.so.10.1\n",
            "2020-11-30 03:01:22.002627: I tensorflow/stream_executor/platform/default/dso_loader.cc:48] Successfully opened dynamic library libcublas.so.10\n",
            "2020-11-30 03:01:22.002652: I tensorflow/stream_executor/platform/default/dso_loader.cc:48] Successfully opened dynamic library libcufft.so.10\n",
            "2020-11-30 03:01:22.002677: I tensorflow/stream_executor/platform/default/dso_loader.cc:48] Successfully opened dynamic library libcurand.so.10\n",
            "2020-11-30 03:01:22.002704: I tensorflow/stream_executor/platform/default/dso_loader.cc:48] Successfully opened dynamic library libcusolver.so.10\n",
            "2020-11-30 03:01:22.002726: I tensorflow/stream_executor/platform/default/dso_loader.cc:48] Successfully opened dynamic library libcusparse.so.10\n",
            "2020-11-30 03:01:22.002748: I tensorflow/stream_executor/platform/default/dso_loader.cc:48] Successfully opened dynamic library libcudnn.so.7\n",
            "2020-11-30 03:01:22.002835: I tensorflow/stream_executor/cuda/cuda_gpu_executor.cc:982] successful NUMA node read from SysFS had negative value (-1), but there must be at least one NUMA node, so returning NUMA node zero\n",
            "2020-11-30 03:01:22.003469: I tensorflow/stream_executor/cuda/cuda_gpu_executor.cc:982] successful NUMA node read from SysFS had negative value (-1), but there must be at least one NUMA node, so returning NUMA node zero\n",
            "2020-11-30 03:01:22.004005: I tensorflow/core/common_runtime/gpu/gpu_device.cc:1858] Adding visible gpu devices: 0\n",
            "2020-11-30 03:01:22.004076: I tensorflow/stream_executor/platform/default/dso_loader.cc:48] Successfully opened dynamic library libcudart.so.10.1\n",
            "2020-11-30 03:01:22.619144: I tensorflow/core/common_runtime/gpu/gpu_device.cc:1257] Device interconnect StreamExecutor with strength 1 edge matrix:\n",
            "2020-11-30 03:01:22.619202: I tensorflow/core/common_runtime/gpu/gpu_device.cc:1263]      0 \n",
            "2020-11-30 03:01:22.619214: I tensorflow/core/common_runtime/gpu/gpu_device.cc:1276] 0:   N \n",
            "2020-11-30 03:01:22.619404: I tensorflow/stream_executor/cuda/cuda_gpu_executor.cc:982] successful NUMA node read from SysFS had negative value (-1), but there must be at least one NUMA node, so returning NUMA node zero\n",
            "2020-11-30 03:01:22.620022: I tensorflow/stream_executor/cuda/cuda_gpu_executor.cc:982] successful NUMA node read from SysFS had negative value (-1), but there must be at least one NUMA node, so returning NUMA node zero\n",
            "2020-11-30 03:01:22.620485: W tensorflow/core/common_runtime/gpu/gpu_bfc_allocator.cc:39] Overriding allow_growth setting because the TF_FORCE_GPU_ALLOW_GROWTH environment variable is set. Original config value was 0.\n",
            "2020-11-30 03:01:22.620526: I tensorflow/core/common_runtime/gpu/gpu_device.cc:1402] Created TensorFlow device (/job:localhost/replica:0/task:0/device:GPU:0 with 12688 MB memory) -> physical GPU (device: 0, name: Tesla T4, pci bus id: 0000:00:04.0, compute capability: 7.5)\n",
            "2020-11-30 03:01:53.138524: I tensorflow/stream_executor/platform/default/dso_loader.cc:48] Successfully opened dynamic library libcublas.so.10\n",
            "2020-11-30 03:01:53.462287: I tensorflow/stream_executor/platform/default/dso_loader.cc:48] Successfully opened dynamic library libcudnn.so.7\n",
            "^C\n"
          ],
          "name": "stdout"
        }
      ]
    },
    {
      "cell_type": "code",
      "metadata": {
        "id": "QG1eRaFSGGS1"
      },
      "source": [
        ""
      ],
      "execution_count": null,
      "outputs": []
    }
  ]
}